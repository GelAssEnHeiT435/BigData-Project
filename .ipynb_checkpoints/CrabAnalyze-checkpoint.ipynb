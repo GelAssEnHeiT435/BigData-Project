{
 "cells": [
  {
   "cell_type": "code",
   "execution_count": 1,
   "id": "7153b922-5a92-49be-aa4b-b39f010be095",
   "metadata": {},
   "outputs": [],
   "source": [
    "from pyspark.sql.types import StructType, StructField, StringType, IntegerType, DoubleType\n",
    "from pyspark.sql.functions import monotonically_increasing_id, format_number\n",
    "from pyspark.ml.feature import VectorAssembler, StringIndexer\n",
    "from pyspark.ml.regression import GeneralizedLinearRegression\n",
    "from pyspark.ml.regression import RandomForestRegressor\n",
    "from pyspark.ml.regression import DecisionTreeRegressor\n",
    "from pyspark.ml.evaluation import RegressionEvaluator\n",
    "from pyspark.ml.regression import IsotonicRegression\n",
    "from pyspark.ml.regression import LinearRegression\n",
    "\n",
    "from pyspark.ml.regression import GBTRegressor\n",
    "from pyspark.ml.regression import FMRegressor\n",
    "from pyspark.sql import SparkSession, Row\n",
    "from pyspark.sql.functions import col\n",
    "from pyspark.ml import Pipeline\n",
    "import numpy as np"
   ]
  },
  {
   "cell_type": "code",
   "execution_count": 2,
   "id": "c4de6089-0596-491c-b979-31fd3e21a408",
   "metadata": {},
   "outputs": [
    {
     "name": "stderr",
     "output_type": "stream",
     "text": [
      "                                                                                \r"
     ]
    },
    {
     "name": "stdout",
     "output_type": "stream",
     "text": [
      "root\n",
      " |-- Sex: string (nullable = true)\n",
      " |-- Length: double (nullable = true)\n",
      " |-- Diameter: double (nullable = true)\n",
      " |-- Height: double (nullable = true)\n",
      " |-- Weight: double (nullable = true)\n",
      " |-- Shucked Weight: double (nullable = true)\n",
      " |-- Viscera Weight: double (nullable = true)\n",
      " |-- Shell Weight: double (nullable = true)\n",
      " |-- Age: integer (nullable = true)\n",
      "\n",
      "+---+------+--------+------+-----------+--------------+--------------+------------+---+\n",
      "|Sex|Length|Diameter|Height|     Weight|Shucked Weight|Viscera Weight|Shell Weight|Age|\n",
      "+---+------+--------+------+-----------+--------------+--------------+------------+---+\n",
      "|  F|1.4375|   1.175|0.4125| 24.6357155|    12.3320325|     5.5848515|    6.747181|  9|\n",
      "|  M|0.8875|    0.65|0.2125| 5.40057975|     2.2963095|    1.37495075|   1.5592225|  6|\n",
      "|  I|1.0375|   0.775|  0.25| 7.95203475|      3.231843|    1.60174675|  2.76407625|  6|\n",
      "|  F| 1.175|  0.8875|  0.25|13.48018725|    4.74854125|    2.28213475|   5.2446575| 10|\n",
      "|  I|0.8875|  0.6625|0.2125| 6.90310325|      3.458639|    1.48834875|     1.70097|  6|\n",
      "|  F|  1.55|  1.1625|  0.35| 28.6613445|    13.5794105|    6.76135575|   7.2291225|  8|\n",
      "|  F|   1.3|     1.0| 0.325|17.70426275|     6.0951425|    5.85417175|    4.819415| 15|\n",
      "|  M| 1.325|  1.0125| 0.375|23.57260925|      9.979024|     5.3013565|  7.15824875| 10|\n",
      "|  I|1.5875|    1.25|0.4125| 42.2124055|    20.2698925|    9.76640275| 10.24834425| 13|\n",
      "|  I|0.9125|  0.6875|0.3375|    6.80388|      3.061746|    1.26155275|  2.08368825|  7|\n",
      "|  M| 0.825|  0.5375|0.1875| 3.24601775|     1.2757275|    0.75126175|   0.9922325|  6|\n",
      "|  F|1.3625|    1.05|0.4375|  21.375523|      7.257472|    5.03203625|   7.7961125| 10|\n",
      "|  M|0.8625|  0.6375| 0.225| 5.68407475|      2.664853|    0.83631025|   1.7860185|  9|\n",
      "|  I| 1.375|   1.075|0.3625|  20.184844|    8.57572375|      4.309124|   6.3786375| 10|\n",
      "|  I| 1.225|    0.95|   0.3| 14.9968855|    6.13766675|     3.9405805|   4.3941725| 11|\n",
      "|  F|1.6375|  1.2875|   0.5|  42.354153|   20.56756225|     8.7599955|  11.4815475| 12|\n",
      "|  M|   1.6|  1.3125|  0.45|37.23706825|   13.79203175|    8.49067525| 11.55242125| 10|\n",
      "|  I|1.0625|   0.775| 0.225|  8.5331995|    3.92640575|     1.8427175|     2.26796|  7|\n",
      "|  M| 1.475|     1.1| 0.375|27.08794725|     10.375917|    6.87475375|   8.3631025| 11|\n",
      "|  I|0.7625|   0.575|0.1875| 4.12485225|    1.68679525|    0.86465975|    1.417475|  6|\n",
      "+---+------+--------+------+-----------+--------------+--------------+------------+---+\n",
      "only showing top 20 rows\n",
      "\n"
     ]
    }
   ],
   "source": [
    "# Создание SparkSession\n",
    "spark = SparkSession.builder.appName(\"CrabAgePrediction\").getOrCreate()\n",
    "# Загружаем датасет\n",
    "data = spark.read.csv(\"CrabAgePrediction.csv\", header = True, inferSchema = True)\n",
    "\n",
    "data.printSchema()\n",
    "data.show()"
   ]
  },
  {
   "cell_type": "code",
   "execution_count": 3,
   "id": "90fa70c4-5fb6-4a41-8f71-231cfd3c7f94",
   "metadata": {},
   "outputs": [
    {
     "name": "stdout",
     "output_type": "stream",
     "text": [
      "Train count: 2767\n",
      "+---+------+--------+------+---------+--------------+--------------+------------+---+\n",
      "|Sex|Length|Diameter|Height|   Weight|Shucked Weight|Viscera Weight|Shell Weight|Age|\n",
      "+---+------+--------+------+---------+--------------+--------------+------------+---+\n",
      "|  F|0.6875|  0.4875| 0.175|  2.26796|     0.8788345|    0.60951425|   0.7087375|  5|\n",
      "|  F| 0.725|   0.525|0.1875|7.7961125|     3.2034935|    1.91359125|   0.9922325|  6|\n",
      "|  F| 0.725|  0.5625|0.1875|  3.96893|    1.45999925|    0.66621325|     1.13398|  5|\n",
      "+---+------+--------+------+---------+--------------+--------------+------------+---+\n",
      "only showing top 3 rows\n",
      "\n",
      "Test count: 1126\n",
      "+---+------+--------+------+----------+--------------+--------------+------------+---+\n",
      "|Sex|Length|Diameter|Height|    Weight|Shucked Weight|Viscera Weight|Shell Weight|Age|\n",
      "+---+------+--------+------+----------+--------------+--------------+------------+---+\n",
      "|  F|0.7625|  0.5625| 0.175|4.20990075|    1.65844575|    0.94970825|   1.2757275|  7|\n",
      "|  F|0.7625|   0.575|   0.2|  4.422522|    1.91359125|    0.97805775|    1.360776|  7|\n",
      "|  F|0.8375|    0.55| 0.175|  4.819415|      2.154562|    1.03475675|    1.417475|  6|\n",
      "+---+------+--------+------+----------+--------------+--------------+------------+---+\n",
      "only showing top 3 rows\n",
      "\n"
     ]
    }
   ],
   "source": [
    "# Преобразуем Пол краба в числа\n",
    "indexer = StringIndexer(inputCol=\"Sex\", outputCol=\"SexIndex\")\n",
    "# Преобразовываем данные. Начинаем с выбора признаков\n",
    "features = [\"SexIndex\", \"Length\", \"Diameter\" , \"Height\", \"Weight\", \"Shucked Weight\", \"Viscera Weight\", \"Shell Weight\"]\n",
    "# Создаем вектор этих признаков\n",
    "assembler = VectorAssembler(inputCols=features, outputCol=\"features\")\n",
    "# Разделяем данные на обучение и тест\n",
    "(train, test) = data.randomSplit([0.7, 0.3])\n",
    "\n",
    "# Объявляем необходимые переменные\n",
    "feature_names = test.columns\n",
    "feature_names.remove(\"Age\")\n",
    "\n",
    "tupleRMSE = ()\n",
    "Pred_arr = []\n",
    "Importance_arr = []\n",
    "\n",
    "print(\"Train count: \" + str(train.count()))\n",
    "train.show(3)\n",
    "\n",
    "print(\"Test count: \" + str(test.count()))\n",
    "test.show(3)"
   ]
  },
  {
   "cell_type": "code",
   "execution_count": 4,
   "id": "b8ce2583-1527-4290-83e6-9067e711e0ac",
   "metadata": {},
   "outputs": [
    {
     "name": "stderr",
     "output_type": "stream",
     "text": [
      "                                                                                \r"
     ]
    },
    {
     "name": "stdout",
     "output_type": "stream",
     "text": [
      "[('RandomForestRegressor', 0.02665004704853663, 0.053320040428898416, 0.08449644970692752, 0.16723765971544471, 0.1564371386405771, 0.06842463185436534, 0.04896707521389934, 0.3944669573913509)]\n"
     ]
    }
   ],
   "source": [
    "# Создаем модель\n",
    "rf = RandomForestRegressor(featuresCol = \"features\", labelCol= \"Age\")\n",
    "# Создаем конвейер\n",
    "pipelineRF = Pipeline(stages = [indexer, assembler, rf])\n",
    "# Обучение модели\n",
    "modelRF = pipelineRF.fit(train)\n",
    "# Предсказание возраста на тестовой выборке\n",
    "predictionsRF = modelRF.transform(test).withColumnRenamed(\"prediction\", \"predictionsRF\")\n",
    "Pred_arr.append(predictionsRF)\n",
    "\n",
    "# Сохранение степени влиятельности признаков\n",
    "name = \"RandomForestRegressor\"\n",
    "tup = (name, ) + tuple(list(map(lambda x: float(x), modelRF.stages[2].featureImportances)))\n",
    "Importance_arr.append(tup)\n",
    "print(Importance_arr)"
   ]
  },
  {
   "cell_type": "code",
   "execution_count": 5,
   "id": "595fc68b-e661-49b1-819b-96d3578250a8",
   "metadata": {},
   "outputs": [
    {
     "name": "stdout",
     "output_type": "stream",
     "text": [
      "Root Mean Squared Error (RMSE): 2.260287373287712\n",
      "+---+------------------+\n",
      "|Age|     predictionsRF|\n",
      "+---+------------------+\n",
      "|  7| 6.332898894704909|\n",
      "|  7|7.2443224174439775|\n",
      "|  6| 7.127882315489858|\n",
      "|  6|7.8158080713338505|\n",
      "|  9| 8.581493957648528|\n",
      "| 10| 7.930096303444886|\n",
      "|  8| 7.828903309429089|\n",
      "|  5|7.9724092968753455|\n",
      "|  8| 8.690662106865874|\n",
      "|  7| 9.100764007002237|\n",
      "| 10| 9.199193503429484|\n",
      "| 10| 9.429057054750961|\n",
      "|  6| 9.172415519504423|\n",
      "| 10| 9.199193503429484|\n",
      "|  8| 9.005082979418017|\n",
      "| 13| 9.005082979418017|\n",
      "| 11| 9.282317663121209|\n",
      "| 10| 9.485643372450628|\n",
      "| 12| 9.485643372450628|\n",
      "|  9| 9.312954073638107|\n",
      "+---+------------------+\n",
      "only showing top 20 rows\n",
      "\n"
     ]
    }
   ],
   "source": [
    "# Оценка модели\n",
    "evaluator = RegressionEvaluator(labelCol = \"Age\", predictionCol = \"predictionsRF\", metricName = \"rmse\")\n",
    "rmseRF = evaluator.evaluate(predictionsRF)\n",
    "tupleRMSE += (rmseRF,)\n",
    "print(\"Root Mean Squared Error (RMSE): %s\" % rmseRF)\n",
    "# Вывод результата и выключение SparkSession\n",
    "predictionsRF.select(\"Age\", \"predictionsRF\").show()"
   ]
  },
  {
   "cell_type": "code",
   "execution_count": 6,
   "id": "bb493e00-3593-4b2c-989a-cdf76e94e398",
   "metadata": {},
   "outputs": [
    {
     "name": "stdout",
     "output_type": "stream",
     "text": [
      "[('RandomForestRegressor', 0.02665004704853663, 0.053320040428898416, 0.08449644970692752, 0.16723765971544471, 0.1564371386405771, 0.06842463185436534, 0.04896707521389934, 0.3944669573913509), ('GBTRegressor', 0.05888803959575064, 0.11085946000815497, 0.05779170388478715, 0.11244157718956405, 0.10750894546914604, 0.15406989513018765, 0.08793827404986826, 0.3105021046725413)]\n"
     ]
    }
   ],
   "source": [
    "# Создание модели градиентного бустинга\n",
    "gbt = GBTRegressor(featuresCol=\"features\", labelCol= \"Age\")\n",
    "# Создание конвейера\n",
    "pipelineGBT = Pipeline(stages = [indexer, assembler, gbt])\n",
    "# Обучение модели\n",
    "modelGBT = pipelineGBT.fit(train)\n",
    "# Предсказание возраста на тестовой выборке\n",
    "predictionsGBT = modelGBT.transform(test).withColumnRenamed(\"prediction\", \"predictionsGBT\")\n",
    "Pred_arr.append(predictionsGBT)\n",
    "\n",
    "# Сохранение степени влиятельности признаков\n",
    "name = \"GBTRegressor\"\n",
    "tup = (name, ) + tuple(list(map(lambda x: float(x), modelGBT.stages[2].featureImportances)))\n",
    "Importance_arr.append(tup)\n",
    "print(Importance_arr)"
   ]
  },
  {
   "cell_type": "code",
   "execution_count": 7,
   "id": "2e96de5b-957c-43bd-a0dc-7d2c217905a3",
   "metadata": {},
   "outputs": [
    {
     "name": "stdout",
     "output_type": "stream",
     "text": [
      "Root Mean Squared Error (RMSE): 2.2803200991143204\n",
      "+---+------------------+\n",
      "|Age|    predictionsGBT|\n",
      "+---+------------------+\n",
      "|  7|6.3856592052447505|\n",
      "|  7| 8.328145290587976|\n",
      "|  6| 8.328145290587976|\n",
      "|  6| 8.328145290587976|\n",
      "|  9| 8.328145290587976|\n",
      "| 10| 8.385203677551146|\n",
      "|  8| 8.328145290587976|\n",
      "|  5| 8.385203677551146|\n",
      "|  8| 8.385203677551146|\n",
      "|  7| 8.510309925210988|\n",
      "| 10| 9.688723558705624|\n",
      "| 10| 9.886895821854138|\n",
      "|  6| 9.688723558705624|\n",
      "| 10| 9.772464097750788|\n",
      "|  8| 9.489832774724613|\n",
      "| 13| 9.489832774724613|\n",
      "| 11|  9.17497297837164|\n",
      "| 10| 9.898170067119258|\n",
      "| 12| 9.898170067119258|\n",
      "|  9| 9.500640132756345|\n",
      "+---+------------------+\n",
      "only showing top 20 rows\n",
      "\n"
     ]
    },
    {
     "name": "stderr",
     "output_type": "stream",
     "text": [
      "24/06/17 16:33:13 WARN BLAS: Failed to load implementation from: com.github.fommil.netlib.NativeSystemBLAS\n",
      "24/06/17 16:33:13 WARN BLAS: Failed to load implementation from: com.github.fommil.netlib.NativeRefBLAS\n"
     ]
    }
   ],
   "source": [
    "# Оценка модели\n",
    "evaluator = RegressionEvaluator(labelCol = \"Age\", predictionCol = \"predictionsGBT\", metricName = \"rmse\")\n",
    "rmseGBT = evaluator.evaluate(predictionsGBT)\n",
    "tupleRMSE += (rmseGBT,)\n",
    "print(\"Root Mean Squared Error (RMSE): %s\" % rmseGBT)\n",
    "# Вывод результата и выключение SparkSession\n",
    "predictionsGBT.select(\"Age\", \"predictionsGBT\").show()"
   ]
  },
  {
   "cell_type": "code",
   "execution_count": 8,
   "id": "98ed5f72-8cfa-4239-a076-954890ba25a2",
   "metadata": {},
   "outputs": [],
   "source": [
    "# Создание модели линейной регрессии\n",
    "lr = LinearRegression(featuresCol=\"features\", labelCol=\"Age\", maxIter=10, regParam=0.3, elasticNetParam=0.8) \n",
    "# Создание конвейера\n",
    "pipelineLR = Pipeline(stages = [indexer, assembler, lr])\n",
    "# Fit the model\n",
    "modelLR = pipelineLR.fit(train)\n",
    "# Предсказание возраста на тестовой выборке\n",
    "predictionsLR = modelLR.transform(test).withColumnRenamed(\"prediction\", \"predictionsLR\")\n",
    "Pred_arr.append(predictionsLR)"
   ]
  },
  {
   "cell_type": "code",
   "execution_count": 9,
   "id": "fdcab750-aeb4-481a-a91a-b433ca881ffd",
   "metadata": {},
   "outputs": [
    {
     "name": "stdout",
     "output_type": "stream",
     "text": [
      "Root Mean Squared Error (RMSE): 2.47864214309764\n",
      "+---+-----------------+\n",
      "|Age|    predictionsLR|\n",
      "+---+-----------------+\n",
      "|  7|7.160321089352263|\n",
      "|  7|7.284946146650438|\n",
      "|  6|7.206448484146021|\n",
      "|  6|7.501189937532092|\n",
      "|  9|7.642435500897497|\n",
      "| 10|7.469859364388783|\n",
      "|  8|7.587252364471093|\n",
      "|  5| 7.65621372454987|\n",
      "|  8|7.870762089199976|\n",
      "|  7|7.948102942769726|\n",
      "| 10|8.111809612199352|\n",
      "| 10|8.292333015001129|\n",
      "|  6|7.939400734946954|\n",
      "| 10|8.092308402737986|\n",
      "|  8|8.307954288616763|\n",
      "| 13|8.274536374588308|\n",
      "| 11|8.214638627621504|\n",
      "| 10|8.389811404014402|\n",
      "| 12|8.392584715950019|\n",
      "|  9|8.397112741823182|\n",
      "+---+-----------------+\n",
      "only showing top 20 rows\n",
      "\n"
     ]
    }
   ],
   "source": [
    "# Оценка модели\n",
    "evaluator = RegressionEvaluator(labelCol = \"Age\", predictionCol = \"predictionsLR\", metricName = \"rmse\")\n",
    "rmseLR = evaluator.evaluate(predictionsLR)\n",
    "tupleRMSE += (rmseLR,)\n",
    "print(\"Root Mean Squared Error (RMSE): %s\" % rmseLR)\n",
    "# Вывод результата и выключение SparkSession\n",
    "predictionsLR.select(\"Age\", \"predictionsLR\").show()"
   ]
  },
  {
   "cell_type": "code",
   "execution_count": 10,
   "id": "1e3503eb-cc60-4f5d-82ea-5c74bc213bc2",
   "metadata": {},
   "outputs": [
    {
     "name": "stdout",
     "output_type": "stream",
     "text": [
      "[('RandomForestRegressor', 0.02665004704853663, 0.053320040428898416, 0.08449644970692752, 0.16723765971544471, 0.1564371386405771, 0.06842463185436534, 0.04896707521389934, 0.3944669573913509), ('GBTRegressor', 0.05888803959575064, 0.11085946000815497, 0.05779170388478715, 0.11244157718956405, 0.10750894546914604, 0.15406989513018765, 0.08793827404986826, 0.3105021046725413), ('DecisionTreeRegressor', 0.02339298348803164, 0.0038014403418231537, 0.0, 0.011727518511288346, 0.007568860690374647, 0.12868104206642564, 0.0010964969783375006, 0.823731657923719)]\n"
     ]
    }
   ],
   "source": [
    "# Создание модели решающих деервьев\n",
    "dt = DecisionTreeRegressor(featuresCol=\"features\", labelCol=\"Age\")\n",
    "# Создание конвейера\n",
    "pipelineDT = Pipeline(stages = [indexer, assembler, dt])\n",
    "# Fit the model\n",
    "modelDT = pipelineDT.fit(train)\n",
    "# Предсказание возраста на тестовой выборке\n",
    "predictionsDT = modelDT.transform(test).withColumnRenamed(\"prediction\", \"predictionsDT\")\n",
    "Pred_arr.append(predictionsDT)\n",
    "\n",
    "# Сохранение степени влиятельности признаков\n",
    "name = \"DecisionTreeRegressor\"\n",
    "tup = (name, ) + tuple(list(map(lambda x: float(x), modelDT.stages[2].featureImportances)))\n",
    "Importance_arr.append(tup)\n",
    "print(Importance_arr)"
   ]
  },
  {
   "cell_type": "code",
   "execution_count": 11,
   "id": "15202ee5-c9d1-4a4b-bb2c-a0ca76e12f71",
   "metadata": {},
   "outputs": [
    {
     "name": "stdout",
     "output_type": "stream",
     "text": [
      "Root Mean Squared Error (RMSE): 2.3097527434255354\n",
      "+---+-----------------+\n",
      "|Age|    predictionsDT|\n",
      "+---+-----------------+\n",
      "|  7|6.363636363636363|\n",
      "|  7|8.306122448979592|\n",
      "|  6|8.306122448979592|\n",
      "|  6|8.306122448979592|\n",
      "|  9|8.306122448979592|\n",
      "| 10|8.306122448979592|\n",
      "|  8|8.306122448979592|\n",
      "|  5|8.306122448979592|\n",
      "|  8|8.306122448979592|\n",
      "|  7|8.306122448979592|\n",
      "| 10|9.484536082474227|\n",
      "| 10|9.484536082474227|\n",
      "|  6|9.484536082474227|\n",
      "| 10|9.484536082474227|\n",
      "|  8|9.484536082474227|\n",
      "| 13|9.484536082474227|\n",
      "| 11|9.484536082474227|\n",
      "| 10|9.484536082474227|\n",
      "| 12|9.484536082474227|\n",
      "|  9|9.484536082474227|\n",
      "+---+-----------------+\n",
      "only showing top 20 rows\n",
      "\n"
     ]
    }
   ],
   "source": [
    "# Оценка модели\n",
    "evaluator = RegressionEvaluator(labelCol = \"Age\", predictionCol = \"predictionsDT\", metricName = \"rmse\")\n",
    "rmseDT = evaluator.evaluate(predictionsDT)\n",
    "tupleRMSE += (rmseDT,)\n",
    "print(\"Root Mean Squared Error (RMSE): %s\" % rmseDT)\n",
    "# Вывод результата и выключение SparkSession\n",
    "predictionsDT.select(\"Age\", \"predictionsDT\").show()"
   ]
  },
  {
   "cell_type": "code",
   "execution_count": 12,
   "id": "2452bde3-dbe8-4d69-ade3-3436d83e7d7e",
   "metadata": {},
   "outputs": [],
   "source": [
    "# Создание модели изотонической регрессии\n",
    "ir = IsotonicRegression(featuresCol=\"features\", labelCol=\"Age\")\n",
    "# Создание конвейера\n",
    "pipelineIR = Pipeline(stages = [indexer, assembler, ir])\n",
    "# Fit the model\n",
    "modelIR = pipelineIR.fit(train)\n",
    "# Предсказание возраста на тестовой выборке\n",
    "predictionsIR = modelIR.transform(test).withColumnRenamed(\"prediction\", \"predictionsIR\")\n",
    "Pred_arr.append(predictionsIR)"
   ]
  },
  {
   "cell_type": "code",
   "execution_count": 13,
   "id": "752bd8f9-d795-4a7c-a3fd-3faf6e692e1e",
   "metadata": {},
   "outputs": [
    {
     "name": "stdout",
     "output_type": "stream",
     "text": [
      "Root Mean Squared Error (RMSE): 3.3033172371601327\n",
      "+---+-------------+\n",
      "|Age|predictionsIR|\n",
      "+---+-------------+\n",
      "|  7|         12.0|\n",
      "|  7|         12.0|\n",
      "|  6|         12.0|\n",
      "|  6|         12.0|\n",
      "|  9|         12.0|\n",
      "| 10|         12.0|\n",
      "|  8|         12.0|\n",
      "|  5|         12.0|\n",
      "|  8|         12.0|\n",
      "|  7|         12.0|\n",
      "| 10|         12.0|\n",
      "| 10|         12.0|\n",
      "|  6|         12.0|\n",
      "| 10|         12.0|\n",
      "|  8|         12.0|\n",
      "| 13|         12.0|\n",
      "| 11|         12.0|\n",
      "| 10|         12.0|\n",
      "| 12|         12.0|\n",
      "|  9|         12.0|\n",
      "+---+-------------+\n",
      "only showing top 20 rows\n",
      "\n"
     ]
    }
   ],
   "source": [
    "# Оценка модели\n",
    "evaluator = RegressionEvaluator(labelCol = \"Age\", predictionCol = \"predictionsIR\", metricName = \"rmse\")\n",
    "rmseIR = evaluator.evaluate(predictionsIR)\n",
    "tupleRMSE += (rmseIR,)\n",
    "print(\"Root Mean Squared Error (RMSE): %s\" % rmseIR)\n",
    "# Вывод результата и выключение SparkSession\n",
    "predictionsIR.select(\"Age\", \"predictionsIR\").show()"
   ]
  },
  {
   "cell_type": "code",
   "execution_count": 14,
   "id": "d4e46aa3-eec6-4304-9a7e-b41d196e5263",
   "metadata": {},
   "outputs": [],
   "source": [
    "# Создание модели FMRegressor\n",
    "fm = FMRegressor(featuresCol=\"features\", labelCol=\"Age\", predictionCol=\"prediction\",stepSize=0.001)\n",
    "# Создание конвейера\n",
    "pipelineFM = Pipeline(stages = [indexer, assembler, fm])\n",
    "# Fit the model\n",
    "modelFM = pipelineFM.fit(train)\n",
    "# Предсказание возраста на тестовой выборке\n",
    "predictionsFM = modelFM.transform(test).withColumnRenamed(\"prediction\", \"predictionsFM\")\n",
    "Pred_arr.append(predictionsFM)"
   ]
  },
  {
   "cell_type": "code",
   "execution_count": 15,
   "id": "234e2445-4e37-4db5-86f0-4ac4656b7402",
   "metadata": {},
   "outputs": [
    {
     "name": "stdout",
     "output_type": "stream",
     "text": [
      "Root Mean Squared Error (RMSE): 5.368003698897728\n",
      "+---+------------------+\n",
      "|Age|     predictionsFM|\n",
      "+---+------------------+\n",
      "|  7|1.1590307649514169|\n",
      "|  7|1.2226059413432528|\n",
      "|  6|1.2993159746448828|\n",
      "|  6| 1.524598838368934|\n",
      "|  9|1.4928202500865342|\n",
      "| 10| 1.536697196986917|\n",
      "|  8|1.5660857747087227|\n",
      "|  5|1.7676983590120845|\n",
      "|  8|1.6415910840055952|\n",
      "|  7|1.9725884281155246|\n",
      "| 10|1.9835849321438097|\n",
      "| 10|2.3066986786641377|\n",
      "|  6|1.9757341665481158|\n",
      "| 10| 2.104297185299983|\n",
      "|  8|2.2879852205575335|\n",
      "| 13|2.2688363104715092|\n",
      "| 11|2.6163000405653363|\n",
      "| 10| 2.689913664989554|\n",
      "| 12|2.7566753492200746|\n",
      "|  9| 2.543729843762283|\n",
      "+---+------------------+\n",
      "only showing top 20 rows\n",
      "\n"
     ]
    }
   ],
   "source": [
    "# Оценка модели\n",
    "evaluator = RegressionEvaluator(labelCol = \"Age\", predictionCol = \"predictionsFM\", metricName = \"rmse\")\n",
    "rmseFM = evaluator.evaluate(predictionsFM)\n",
    "tupleRMSE += (rmseFM,)\n",
    "print(\"Root Mean Squared Error (RMSE): %s\" % rmseFM)\n",
    "# Вывод результата и выключение SparkSession\n",
    "predictionsFM.select(\"Age\", \"predictionsFM\").show()"
   ]
  },
  {
   "cell_type": "code",
   "execution_count": 16,
   "id": "d5d86962-d438-4d88-a41e-a5ce891f90bf",
   "metadata": {},
   "outputs": [],
   "source": [
    "# Модель  `AFTSurvivalRegression`  не подходит для датасета  `CrabAgePrediction`, так как нет информации о том,  \n",
    "# живы ли были крабы, когда их поймали.\n",
    "\n",
    "# Эта модель предназначена для анализа данных выживания, где есть данные о времени до события (в данном случае, смерть) \n",
    "# и информация о том,  было ли это событие наблюдено (краб умер) или  **цензурировано**  (краб был жив, когда его поймали).  "
   ]
  },
  {
   "cell_type": "code",
   "execution_count": 17,
   "id": "ed06ed51-e45b-434e-9dc8-406023416bef",
   "metadata": {},
   "outputs": [
    {
     "name": "stderr",
     "output_type": "stream",
     "text": [
      "24/06/17 16:33:23 WARN LAPACK: Failed to load implementation from: com.github.fommil.netlib.NativeSystemLAPACK\n",
      "24/06/17 16:33:23 WARN LAPACK: Failed to load implementation from: com.github.fommil.netlib.NativeRefLAPACK\n"
     ]
    }
   ],
   "source": [
    "glr = GeneralizedLinearRegression(featuresCol=\"features\", labelCol=\"Age\", family=\"gaussian\", link=\"identity\", maxIter=10, regParam=0.3)\n",
    "# Создание конвейера\n",
    "pipelineGLR = Pipeline(stages = [indexer, assembler, glr])\n",
    "# Fit the model\n",
    "modelGLR = pipelineGLR.fit(train)\n",
    "# Предсказание возраста на тестовой выборке\n",
    "predictionsGLR = modelGLR.transform(test).withColumnRenamed(\"prediction\", \"predictionsGLR\")\n",
    "Pred_arr.append(predictionsGLR)"
   ]
  },
  {
   "cell_type": "code",
   "execution_count": 18,
   "id": "d74f2b28-c31a-408a-970d-4a92f7a5f15a",
   "metadata": {},
   "outputs": [
    {
     "name": "stdout",
     "output_type": "stream",
     "text": [
      "Root Mean Squared Error (RMSE): 2.283799410499867\n",
      "+---+------------------+\n",
      "|Age|    predictionsGLR|\n",
      "+---+------------------+\n",
      "|  7| 6.737955190427437|\n",
      "|  7| 6.862932318748824|\n",
      "|  6| 6.740405495766632|\n",
      "|  6| 7.236090133153725|\n",
      "|  9| 7.490798254321438|\n",
      "| 10|7.3569211868027224|\n",
      "|  8| 7.443108416444253|\n",
      "|  5| 7.457203932313081|\n",
      "|  8| 7.832877077082419|\n",
      "|  7| 7.851557296318457|\n",
      "| 10| 8.198009848979432|\n",
      "| 10| 8.428149720994423|\n",
      "|  6| 7.921528034658778|\n",
      "| 10| 8.105271827856566|\n",
      "|  8| 8.415571564479208|\n",
      "| 13| 8.291360700210372|\n",
      "| 11| 8.017739898488461|\n",
      "| 10| 8.406049907191566|\n",
      "| 12| 8.426642586227553|\n",
      "|  9|  8.52506271204657|\n",
      "+---+------------------+\n",
      "only showing top 20 rows\n",
      "\n"
     ]
    }
   ],
   "source": [
    "# Оценка модели\n",
    "evaluator = RegressionEvaluator(labelCol = \"Age\", predictionCol = \"predictionsGLR\", metricName = \"rmse\")\n",
    "rmseGLR = evaluator.evaluate(predictionsGLR)\n",
    "tupleRMSE += (rmseGLR,)\n",
    "print(\"Root Mean Squared Error (RMSE): %s\" % rmseGLR)\n",
    "# Вывод результата и выключение SparkSession\n",
    "predictionsGLR.select(\"Age\", \"predictionsGLR\").show()"
   ]
  },
  {
   "cell_type": "code",
   "execution_count": 19,
   "id": "58dac84c-b333-41f3-8fe3-ca303dc2f391",
   "metadata": {},
   "outputs": [],
   "source": [
    "# Создаем списки моделей, выполняющихся том же в порядке выше\n",
    "modelsList = [\"RandomForestRegressor\", \"GBTRegressor\", \"LinearRegression\", \"DecisionTreeRegressor\", \n",
    "              \"IsotonicRegression\", \"FMRegressor\", \"GeneralizedLinearRegression\"]\n",
    "shortModelsList = [\"predictionsRF\", \"predictionsGBT\", \"predictionsLR\", \"predictionsDT\", \"predictionsIR\", \n",
    "                   \"predictionsFM\", \"predictionsGLR\"]\n",
    "\n",
    "# Схема нового DataFrame значений RMSE каждой модели\n",
    "schemaRMSE = StructType([\n",
    "    StructField(modelsList[0], DoubleType(), True),\n",
    "    StructField(modelsList[1], DoubleType(), True),\n",
    "    StructField(modelsList[2], DoubleType(), True),\n",
    "    StructField(modelsList[3], DoubleType(), True),\n",
    "    StructField(modelsList[4], DoubleType(), True),\n",
    "    StructField(modelsList[5], DoubleType(), True),\n",
    "    StructField(modelsList[6], DoubleType(), True)\n",
    "])\n",
    "# Создание DataFrame\n",
    "rmseDF = spark.createDataFrame([tupleRMSE], schemaRMSE)"
   ]
  },
  {
   "cell_type": "code",
   "execution_count": 20,
   "id": "3601697c-fb28-4d27-bfdc-2e17f9abed20",
   "metadata": {},
   "outputs": [
    {
     "name": "stdout",
     "output_type": "stream",
     "text": [
      "root\n",
      " |-- Model_name: string (nullable = true)\n",
      " |-- Sex: double (nullable = true)\n",
      " |-- Length: double (nullable = true)\n",
      " |-- Diameter: double (nullable = true)\n",
      " |-- Height: double (nullable = true)\n",
      " |-- Weight: double (nullable = true)\n",
      " |-- Shucked Weight: double (nullable = true)\n",
      " |-- Viscera Weight: double (nullable = true)\n",
      " |-- Shell Weight: double (nullable = true)\n",
      "\n"
     ]
    }
   ],
   "source": [
    "types = [StructField(\"Model_name\", StringType(), True)]\n",
    "\n",
    "for i in feature_names:\n",
    "    types.append(StructField(i, DoubleType(), True))\n",
    "\n",
    "schema_imp = StructType(types)\n",
    "impDF = spark.createDataFrame(Importance_arr, schema_imp)\n",
    "impDF.printSchema()"
   ]
  },
  {
   "cell_type": "code",
   "execution_count": 21,
   "id": "3cd31032-9ce0-4a45-bf4c-82976f9574b6",
   "metadata": {},
   "outputs": [
    {
     "name": "stdout",
     "output_type": "stream",
     "text": [
      "+---+------------------+------------------+-----------------+-----------------+-------------+------------------+-----------------+\n",
      "|Age|     predictionsRF|    predictionsGBT|    predictionsLR|    predictionsDT|predictionsIR|     predictionsFM|   predictionsGLR|\n",
      "+---+------------------+------------------+-----------------+-----------------+-------------+------------------+-----------------+\n",
      "|  7| 6.332898894704909|6.3856592052447505|7.160321089352263|6.363636363636363|         12.0|1.1590307649514169|6.737955190427437|\n",
      "|  7|7.2443224174439775| 8.328145290587976|7.284946146650438|8.306122448979592|         12.0|1.2226059413432528|6.862932318748824|\n",
      "|  6| 7.127882315489858| 8.328145290587976|7.206448484146021|8.306122448979592|         12.0|1.2993159746448828|6.740405495766632|\n",
      "|  6|7.8158080713338505| 8.328145290587976|7.501189937532092|8.306122448979592|         12.0| 1.524598838368934|7.236090133153725|\n",
      "|  9| 8.581493957648528| 8.328145290587976|7.642435500897497|8.306122448979592|         12.0|1.4928202500865342|7.490798254321438|\n",
      "+---+------------------+------------------+-----------------+-----------------+-------------+------------------+-----------------+\n",
      "only showing top 5 rows\n",
      "\n"
     ]
    },
    {
     "name": "stderr",
     "output_type": "stream",
     "text": [
      "                                                                                \r"
     ]
    },
    {
     "name": "stdout",
     "output_type": "stream",
     "text": [
      "+---------------------+------------------+----------------+---------------------+------------------+-----------------+---------------------------+\n",
      "|RandomForestRegressor|      GBTRegressor|LinearRegression|DecisionTreeRegressor|IsotonicRegression|      FMRegressor|GeneralizedLinearRegression|\n",
      "+---------------------+------------------+----------------+---------------------+------------------+-----------------+---------------------------+\n",
      "|    2.260287373287712|2.2803200991143204|2.47864214309764|   2.3097527434255354|3.3033172371601327|5.368003698897728|          2.283799410499867|\n",
      "+---------------------+------------------+----------------+---------------------+------------------+-----------------+---------------------------+\n",
      "\n",
      "+--------------------+-------------------+--------------------+-------------------+--------------------+--------------------+-------------------+--------------------+------------------+\n",
      "|          Model_name|                Sex|              Length|           Diameter|              Height|              Weight|     Shucked Weight|      Viscera Weight|      Shell Weight|\n",
      "+--------------------+-------------------+--------------------+-------------------+--------------------+--------------------+-------------------+--------------------+------------------+\n",
      "|RandomForestRegre...|0.02665004704853663|0.053320040428898416|0.08449644970692752| 0.16723765971544471|  0.1564371386405771|0.06842463185436534| 0.04896707521389934|0.3944669573913509|\n",
      "|        GBTRegressor|0.05888803959575064| 0.11085946000815497|0.05779170388478715| 0.11244157718956405| 0.10750894546914604|0.15406989513018765| 0.08793827404986826|0.3105021046725413|\n",
      "|DecisionTreeRegre...|0.02339298348803164|0.003801440341823...|                0.0|0.011727518511288346|0.007568860690374647|0.12868104206642564|0.001096496978337...| 0.823731657923719|\n",
      "+--------------------+-------------------+--------------------+-------------------+--------------------+--------------------+-------------------+--------------------+------------------+\n",
      "\n"
     ]
    }
   ],
   "source": [
    "for i, df in enumerate(Pred_arr):\n",
    "    df = df.withColumn(\"id\", monotonically_increasing_id())\n",
    "    Pred_arr[i] = df\n",
    "\n",
    "ListSelectedDF = [df.select(\"Age\", \"id\", shortModelsList[i]) for i, df in enumerate(Pred_arr)]\n",
    "predDF = ListSelectedDF[0]\n",
    "\n",
    "for i in range(1, len(ListSelectedDF)):\n",
    "    predDF = predDF.join(ListSelectedDF[i], on = [\"Age\", \"id\"], how = \"inner\")\n",
    "\n",
    "predDF = predDF.drop(\"id\")"
   ]
  },
  {
   "cell_type": "code",
   "execution_count": 22,
   "id": "d31b729a-4e62-42d7-8774-dde6d0cff9e1",
   "metadata": {},
   "outputs": [
    {
     "name": "stdout",
     "output_type": "stream",
     "text": [
      "Лучшая модель: RandomForestRegressor (RMSE: 2.260287373287712)\n"
     ]
    },
    {
     "name": "stderr",
     "output_type": "stream",
     "text": [
      "                                                                                \r"
     ]
    }
   ],
   "source": [
    "# Вывод лучшего результата\n",
    "print(f\"Лучшая модель: {modelsList[rmseDF.head().index(min(rmseDF.head()))]} (RMSE: {min(rmseDF.head())})\")\n",
    "# Запись результатов в json-файл\n",
    "rmseDF.coalesce(1).write.json(\"RMSE.json\", mode = 'overwrite')\n",
    "predDF.write.json(\"Pred.json\", mode = 'overwrite')\n",
    "impDF.coalesce(1).write.json(\"Importance.json\", mode = 'overwrite')"
   ]
  },
  {
   "cell_type": "code",
   "execution_count": 203,
   "id": "ab0a7032-5d8c-4617-af04-e4c21b324306",
   "metadata": {},
   "outputs": [],
   "source": [
    "spark.stop()"
   ]
  },
  {
   "cell_type": "code",
   "execution_count": null,
   "id": "07ef52be-660c-4e8e-84ce-5878d0db3d3e",
   "metadata": {},
   "outputs": [],
   "source": []
  }
 ],
 "metadata": {
  "kernelspec": {
   "display_name": "Python 3 (ipykernel)",
   "language": "python",
   "name": "python3"
  },
  "language_info": {
   "codemirror_mode": {
    "name": "ipython",
    "version": 3
   },
   "file_extension": ".py",
   "mimetype": "text/x-python",
   "name": "python",
   "nbconvert_exporter": "python",
   "pygments_lexer": "ipython3",
   "version": "3.10.12"
  }
 },
 "nbformat": 4,
 "nbformat_minor": 5
}
