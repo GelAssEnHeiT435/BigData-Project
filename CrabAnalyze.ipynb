{
 "cells": [
  {
   "cell_type": "code",
   "execution_count": 52,
   "id": "7153b922-5a92-49be-aa4b-b39f010be095",
   "metadata": {},
   "outputs": [],
   "source": [
    "from pyspark.sql.types import StructType, StructField, StringType, IntegerType, DoubleType\n",
    "from pyspark.sql.functions import monotonically_increasing_id, format_number\n",
    "from pyspark.ml.feature import VectorAssembler, StringIndexer\n",
    "from pyspark.ml.regression import GeneralizedLinearRegression\n",
    "from pyspark.ml.regression import RandomForestRegressor\n",
    "from pyspark.ml.regression import DecisionTreeRegressor\n",
    "from pyspark.ml.evaluation import RegressionEvaluator\n",
    "from pyspark.ml.regression import IsotonicRegression\n",
    "from pyspark.ml.regression import LinearRegression\n",
    "\n",
    "from pyspark.ml.regression import GBTRegressor\n",
    "from pyspark.ml.regression import FMRegressor\n",
    "from pyspark.sql import SparkSession, Row\n",
    "from pyspark.sql.functions import col\n",
    "from pyspark.ml import Pipeline"
   ]
  },
  {
   "cell_type": "code",
   "execution_count": 53,
   "id": "c4de6089-0596-491c-b979-31fd3e21a408",
   "metadata": {},
   "outputs": [
    {
     "name": "stdout",
     "output_type": "stream",
     "text": [
      "root\n",
      " |-- Sex: string (nullable = true)\n",
      " |-- Length: double (nullable = true)\n",
      " |-- Diameter: double (nullable = true)\n",
      " |-- Height: double (nullable = true)\n",
      " |-- Weight: double (nullable = true)\n",
      " |-- Shucked Weight: double (nullable = true)\n",
      " |-- Viscera Weight: double (nullable = true)\n",
      " |-- Shell Weight: double (nullable = true)\n",
      " |-- Age: integer (nullable = true)\n",
      "\n",
      "+---+------+--------+------+-----------+--------------+--------------+------------+---+\n",
      "|Sex|Length|Diameter|Height|     Weight|Shucked Weight|Viscera Weight|Shell Weight|Age|\n",
      "+---+------+--------+------+-----------+--------------+--------------+------------+---+\n",
      "|  F|1.4375|   1.175|0.4125| 24.6357155|    12.3320325|     5.5848515|    6.747181|  9|\n",
      "|  M|0.8875|    0.65|0.2125| 5.40057975|     2.2963095|    1.37495075|   1.5592225|  6|\n",
      "|  I|1.0375|   0.775|  0.25| 7.95203475|      3.231843|    1.60174675|  2.76407625|  6|\n",
      "|  F| 1.175|  0.8875|  0.25|13.48018725|    4.74854125|    2.28213475|   5.2446575| 10|\n",
      "|  I|0.8875|  0.6625|0.2125| 6.90310325|      3.458639|    1.48834875|     1.70097|  6|\n",
      "|  F|  1.55|  1.1625|  0.35| 28.6613445|    13.5794105|    6.76135575|   7.2291225|  8|\n",
      "|  F|   1.3|     1.0| 0.325|17.70426275|     6.0951425|    5.85417175|    4.819415| 15|\n",
      "|  M| 1.325|  1.0125| 0.375|23.57260925|      9.979024|     5.3013565|  7.15824875| 10|\n",
      "|  I|1.5875|    1.25|0.4125| 42.2124055|    20.2698925|    9.76640275| 10.24834425| 13|\n",
      "|  I|0.9125|  0.6875|0.3375|    6.80388|      3.061746|    1.26155275|  2.08368825|  7|\n",
      "|  M| 0.825|  0.5375|0.1875| 3.24601775|     1.2757275|    0.75126175|   0.9922325|  6|\n",
      "|  F|1.3625|    1.05|0.4375|  21.375523|      7.257472|    5.03203625|   7.7961125| 10|\n",
      "|  M|0.8625|  0.6375| 0.225| 5.68407475|      2.664853|    0.83631025|   1.7860185|  9|\n",
      "|  I| 1.375|   1.075|0.3625|  20.184844|    8.57572375|      4.309124|   6.3786375| 10|\n",
      "|  I| 1.225|    0.95|   0.3| 14.9968855|    6.13766675|     3.9405805|   4.3941725| 11|\n",
      "|  F|1.6375|  1.2875|   0.5|  42.354153|   20.56756225|     8.7599955|  11.4815475| 12|\n",
      "|  M|   1.6|  1.3125|  0.45|37.23706825|   13.79203175|    8.49067525| 11.55242125| 10|\n",
      "|  I|1.0625|   0.775| 0.225|  8.5331995|    3.92640575|     1.8427175|     2.26796|  7|\n",
      "|  M| 1.475|     1.1| 0.375|27.08794725|     10.375917|    6.87475375|   8.3631025| 11|\n",
      "|  I|0.7625|   0.575|0.1875| 4.12485225|    1.68679525|    0.86465975|    1.417475|  6|\n",
      "+---+------+--------+------+-----------+--------------+--------------+------------+---+\n",
      "only showing top 20 rows\n",
      "\n"
     ]
    }
   ],
   "source": [
    "# Создание SparkSession\n",
    "spark = SparkSession.builder.appName(\"CrabAgePrediction\").getOrCreate()\n",
    "# Загружаем датасет\n",
    "data = spark.read.csv(\"CrabAgePrediction.csv\", header = True, inferSchema = True)\n",
    "\n",
    "data.printSchema()\n",
    "data.show()"
   ]
  },
  {
   "cell_type": "code",
   "execution_count": 54,
   "id": "90fa70c4-5fb6-4a41-8f71-231cfd3c7f94",
   "metadata": {},
   "outputs": [
    {
     "name": "stdout",
     "output_type": "stream",
     "text": [
      "+---+------+--------+------+---------+--------------+--------------+------------+---+\n",
      "|Sex|Length|Diameter|Height|   Weight|Shucked Weight|Viscera Weight|Shell Weight|Age|\n",
      "+---+------+--------+------+---------+--------------+--------------+------------+---+\n",
      "|  F|0.6875|  0.4875| 0.175|  2.26796|     0.8788345|    0.60951425|   0.7087375|  5|\n",
      "|  F| 0.725|   0.525|0.1875|7.7961125|     3.2034935|    1.91359125|   0.9922325|  6|\n",
      "|  F| 0.725|  0.5625|0.1875|  3.96893|    1.45999925|    0.66621325|     1.13398|  5|\n",
      "+---+------+--------+------+---------+--------------+--------------+------------+---+\n",
      "only showing top 3 rows\n",
      "\n",
      "+---+------+--------+------+----------+--------------+--------------+------------+---+\n",
      "|Sex|Length|Diameter|Height|    Weight|Shucked Weight|Viscera Weight|Shell Weight|Age|\n",
      "+---+------+--------+------+----------+--------------+--------------+------------+---+\n",
      "|  F|0.7625|  0.5625| 0.175|4.20990075|    1.65844575|    0.94970825|   1.2757275|  7|\n",
      "|  F|  0.85|  0.6375|0.2125|  5.783298|     2.7499015|     0.5953395|    1.417475|  6|\n",
      "|  F|0.8625|   0.625| 0.225| 5.7549485|      2.211261|     1.6726205|   1.5592225|  6|\n",
      "+---+------+--------+------+----------+--------------+--------------+------------+---+\n",
      "only showing top 3 rows\n",
      "\n",
      "2752\n",
      "1141\n"
     ]
    }
   ],
   "source": [
    "# Преобразуем Пол краба в числа\n",
    "indexer = StringIndexer(inputCol=\"Sex\", outputCol=\"SexIndex\")\n",
    "# Преобразовываем данные. Начинаем с выбора признаков\n",
    "features = [\"SexIndex\", \"Length\", \"Diameter\" , \"Height\", \"Weight\", \"Shucked Weight\", \"Viscera Weight\", \"Shell Weight\"]\n",
    "# Создаем вектор этих признаков\n",
    "assembler = VectorAssembler(inputCols=features, outputCol=\"features\")\n",
    "# Разделяем данные на обучение и тест\n",
    "(train, test) = data.randomSplit([0.7, 0.3])\n",
    "# Создаем кортеж среднеквадратичных ошибок\n",
    "tupleRMSE = ()\n",
    "Pred_arr = []\n",
    "\n",
    "train.show(3)\n",
    "test.show(3)\n",
    "\n",
    "print(train.count())\n",
    "print(test.count())"
   ]
  },
  {
   "cell_type": "code",
   "execution_count": 55,
   "id": "b8ce2583-1527-4290-83e6-9067e711e0ac",
   "metadata": {},
   "outputs": [],
   "source": [
    "# Создаем модель\n",
    "rf = RandomForestRegressor(featuresCol = \"features\", labelCol= \"Age\")\n",
    "# Создаем конвейер\n",
    "pipelineRF = Pipeline(stages = [indexer, assembler, rf])\n",
    "# Обучение модели\n",
    "modelRF = pipelineRF.fit(train)\n",
    "# Предсказание возраста на тестовой выборке\n",
    "predictionsRF = modelRF.transform(test).withColumnRenamed(\"prediction\", \"predictionsRF\")\n",
    "Pred_arr.append(predictionsRF)"
   ]
  },
  {
   "cell_type": "code",
   "execution_count": 56,
   "id": "595fc68b-e661-49b1-819b-96d3578250a8",
   "metadata": {},
   "outputs": [
    {
     "name": "stdout",
     "output_type": "stream",
     "text": [
      "Root Mean Squared Error (RMSE): 2.4179375528537674\n",
      "+---+------------------+\n",
      "|Age|     predictionsRF|\n",
      "+---+------------------+\n",
      "|  7| 6.594659427450752|\n",
      "|  6| 7.871283734425289|\n",
      "|  6| 7.963288136657253|\n",
      "| 10| 8.057965445331728|\n",
      "|  8| 7.889020916800051|\n",
      "|  5|7.9949800455895454|\n",
      "| 10| 8.462476246929658|\n",
      "|  7| 8.160344699210814|\n",
      "|  7| 9.068308795603793|\n",
      "| 10| 8.462476246929658|\n",
      "| 10|  8.29551087009093|\n",
      "| 10| 8.393243663180488|\n",
      "| 13| 8.233380410131641|\n",
      "| 16| 9.355811895018638|\n",
      "|  9| 8.486886903117275|\n",
      "|  9| 9.298196463508672|\n",
      "| 10| 9.318517656294933|\n",
      "| 12|10.424962074373818|\n",
      "|  8| 9.425166021325294|\n",
      "| 11|  9.19667671496469|\n",
      "+---+------------------+\n",
      "only showing top 20 rows\n",
      "\n"
     ]
    }
   ],
   "source": [
    "# Оценка модели\n",
    "evaluator = RegressionEvaluator(labelCol = \"Age\", predictionCol = \"predictionsRF\", metricName = \"rmse\")\n",
    "rmseRF = evaluator.evaluate(predictionsRF)\n",
    "tupleRMSE += (rmseRF,)\n",
    "print(\"Root Mean Squared Error (RMSE): %s\" % rmseRF)\n",
    "# Вывод результата и выключение SparkSession\n",
    "predictionsRF.select(\"Age\", \"predictionsRF\").show()"
   ]
  },
  {
   "cell_type": "code",
   "execution_count": 57,
   "id": "bb493e00-3593-4b2c-989a-cdf76e94e398",
   "metadata": {},
   "outputs": [],
   "source": [
    "# Создание модели градиентного бустинга\n",
    "gbt = GBTRegressor(featuresCol=\"features\", labelCol= \"Age\")\n",
    "# Создание конвейера\n",
    "pipelineGBT = Pipeline(stages = [indexer, assembler, gbt])\n",
    "# Обучение модели\n",
    "modelGBT = pipelineGBT.fit(train)\n",
    "# Предсказание возраста на тестовой выборке\n",
    "predictionsGBT = modelGBT.transform(test).withColumnRenamed(\"prediction\", \"predictionsGBT\")\n",
    "Pred_arr.append(predictionsGBT)"
   ]
  },
  {
   "cell_type": "code",
   "execution_count": 58,
   "id": "2e96de5b-957c-43bd-a0dc-7d2c217905a3",
   "metadata": {},
   "outputs": [
    {
     "name": "stdout",
     "output_type": "stream",
     "text": [
      "Root Mean Squared Error (RMSE): 2.4145932340710274\n",
      "+---+------------------+\n",
      "|Age|    predictionsGBT|\n",
      "+---+------------------+\n",
      "|  7|5.9472047948118885|\n",
      "|  6| 9.357288828425332|\n",
      "|  6| 8.040487717731033|\n",
      "| 10| 8.230610220671146|\n",
      "|  8| 8.040487717731033|\n",
      "|  5| 9.342250036509883|\n",
      "| 10| 8.634327184614628|\n",
      "|  7| 9.306911677340077|\n",
      "|  7|  9.62479973457039|\n",
      "| 10| 8.634327184614628|\n",
      "| 10| 8.233503778090963|\n",
      "| 10|  8.25184284129502|\n",
      "| 13|  8.45038482478648|\n",
      "| 16| 9.475987231917298|\n",
      "|  9| 9.036663026314256|\n",
      "|  9| 9.606460671366333|\n",
      "| 10| 9.340924507966234|\n",
      "| 12|11.771595597993523|\n",
      "|  8| 9.449261409932369|\n",
      "| 11| 9.482448761915451|\n",
      "+---+------------------+\n",
      "only showing top 20 rows\n",
      "\n"
     ]
    }
   ],
   "source": [
    "# Оценка модели\n",
    "evaluator = RegressionEvaluator(labelCol = \"Age\", predictionCol = \"predictionsGBT\", metricName = \"rmse\")\n",
    "rmseGBT = evaluator.evaluate(predictionsGBT)\n",
    "tupleRMSE += (rmseGBT,)\n",
    "print(\"Root Mean Squared Error (RMSE): %s\" % rmseGBT)\n",
    "# Вывод результата и выключение SparkSession\n",
    "predictionsGBT.select(\"Age\", \"predictionsGBT\").show()\n",
    "#spark.stop()"
   ]
  },
  {
   "cell_type": "code",
   "execution_count": 59,
   "id": "98ed5f72-8cfa-4239-a076-954890ba25a2",
   "metadata": {},
   "outputs": [],
   "source": [
    "# Создание модели линейной регрессии\n",
    "lr = LinearRegression(featuresCol=\"features\", labelCol=\"Age\", maxIter=10, regParam=0.3, elasticNetParam=0.8) \n",
    "# Создание конвейера\n",
    "pipelineLR = Pipeline(stages = [indexer, assembler, lr])\n",
    "# Fit the model\n",
    "modelLR = pipelineLR.fit(train)\n",
    "# Предсказание возраста на тестовой выборке\n",
    "predictionsLR = modelLR.transform(test).withColumnRenamed(\"prediction\", \"predictionsLR\")\n",
    "Pred_arr.append(predictionsLR)"
   ]
  },
  {
   "cell_type": "code",
   "execution_count": 60,
   "id": "fdcab750-aeb4-481a-a91a-b433ca881ffd",
   "metadata": {},
   "outputs": [
    {
     "name": "stdout",
     "output_type": "stream",
     "text": [
      "Root Mean Squared Error (RMSE): 2.6814091966136013\n",
      "+---+-----------------+\n",
      "|Age|    predictionsLR|\n",
      "+---+-----------------+\n",
      "|  7|7.312727958505367|\n",
      "|  6| 7.50380084774897|\n",
      "|  6|7.582345492675976|\n",
      "| 10| 7.80407872046244|\n",
      "|  8|7.648862659430991|\n",
      "|  5|7.722683761183636|\n",
      "| 10|7.955506264365743|\n",
      "|  7|7.802403082134456|\n",
      "|  7| 8.25148922417507|\n",
      "| 10|8.029327366118387|\n",
      "| 10| 8.14068093441117|\n",
      "| 10|8.079792064325801|\n",
      "| 13|8.020150202298197|\n",
      "| 16|8.395693775316655|\n",
      "|  9|8.122248841265012|\n",
      "|  9|8.385968156237446|\n",
      "| 10| 8.80486464948844|\n",
      "| 12| 8.82138463105915|\n",
      "|  8| 8.64086117215413|\n",
      "| 11|8.442292190890145|\n",
      "+---+-----------------+\n",
      "only showing top 20 rows\n",
      "\n"
     ]
    }
   ],
   "source": [
    "# Оценка модели\n",
    "evaluator = RegressionEvaluator(labelCol = \"Age\", predictionCol = \"predictionsLR\", metricName = \"rmse\")\n",
    "rmseLR = evaluator.evaluate(predictionsLR)\n",
    "tupleRMSE += (rmseLR,)\n",
    "print(\"Root Mean Squared Error (RMSE): %s\" % rmseLR)\n",
    "# Вывод результата и выключение SparkSession\n",
    "predictionsLR.select(\"Age\", \"predictionsLR\").show()\n",
    "#spark.stop()"
   ]
  },
  {
   "cell_type": "code",
   "execution_count": 61,
   "id": "1e3503eb-cc60-4f5d-82ea-5c74bc213bc2",
   "metadata": {},
   "outputs": [],
   "source": [
    "# Создание модели решающих деервьев\n",
    "dt = DecisionTreeRegressor(featuresCol=\"features\", labelCol=\"Age\")\n",
    "# Создание конвейера\n",
    "pipelineDT = Pipeline(stages = [indexer, assembler, dt])\n",
    "# Fit the model\n",
    "modelDT = pipelineDT.fit(train)\n",
    "# Предсказание возраста на тестовой выборке\n",
    "predictionsDT = modelDT.transform(test).withColumnRenamed(\"prediction\", \"predictionsDT\")\n",
    "Pred_arr.append(predictionsDT)"
   ]
  },
  {
   "cell_type": "code",
   "execution_count": 62,
   "id": "15202ee5-c9d1-4a4b-bb2c-a0ca76e12f71",
   "metadata": {},
   "outputs": [
    {
     "name": "stdout",
     "output_type": "stream",
     "text": [
      "Root Mean Squared Error (RMSE): 2.460936088145193\n",
      "+---+------------------+\n",
      "|Age|     predictionsDT|\n",
      "+---+------------------+\n",
      "|  7| 5.942857142857143|\n",
      "|  6| 9.352941176470589|\n",
      "|  6| 8.297872340425531|\n",
      "| 10| 8.297872340425531|\n",
      "|  8| 8.297872340425531|\n",
      "|  5| 9.352941176470589|\n",
      "| 10| 8.297872340425531|\n",
      "|  7| 9.352941176470589|\n",
      "|  7| 9.502958579881657|\n",
      "| 10| 8.297872340425531|\n",
      "| 10| 8.297872340425531|\n",
      "| 10| 8.297872340425531|\n",
      "| 13| 8.297872340425531|\n",
      "| 16| 9.502958579881657|\n",
      "|  9| 9.502958579881657|\n",
      "|  9| 9.502958579881657|\n",
      "| 10| 9.502958579881657|\n",
      "| 12|10.805555555555555|\n",
      "|  8| 9.502958579881657|\n",
      "| 11| 9.502958579881657|\n",
      "+---+------------------+\n",
      "only showing top 20 rows\n",
      "\n"
     ]
    }
   ],
   "source": [
    "# Оценка модели\n",
    "evaluator = RegressionEvaluator(labelCol = \"Age\", predictionCol = \"predictionsDT\", metricName = \"rmse\")\n",
    "rmseDT = evaluator.evaluate(predictionsDT)\n",
    "tupleRMSE += (rmseDT,)\n",
    "print(\"Root Mean Squared Error (RMSE): %s\" % rmseDT)\n",
    "# Вывод результата и выключение SparkSession\n",
    "predictionsDT.select(\"Age\", \"predictionsDT\").show()"
   ]
  },
  {
   "cell_type": "code",
   "execution_count": 63,
   "id": "2452bde3-dbe8-4d69-ade3-3436d83e7d7e",
   "metadata": {},
   "outputs": [],
   "source": [
    "# Создание модели изотонической регрессии\n",
    "ir = IsotonicRegression(featuresCol=\"features\", labelCol=\"Age\")\n",
    "# Создание конвейера\n",
    "pipelineIR = Pipeline(stages = [indexer, assembler, ir])\n",
    "# Fit the model\n",
    "modelIR = pipelineIR.fit(train)\n",
    "# Предсказание возраста на тестовой выборке\n",
    "predictionsIR = modelIR.transform(test).withColumnRenamed(\"prediction\", \"predictionsIR\")\n",
    "Pred_arr.append(predictionsIR)"
   ]
  },
  {
   "cell_type": "code",
   "execution_count": 64,
   "id": "752bd8f9-d795-4a7c-a3fd-3faf6e692e1e",
   "metadata": {},
   "outputs": [
    {
     "name": "stdout",
     "output_type": "stream",
     "text": [
      "Root Mean Squared Error (RMSE): 3.624850074638497\n",
      "+---+-------------+\n",
      "|Age|predictionsIR|\n",
      "+---+-------------+\n",
      "|  7|         11.0|\n",
      "|  6|         11.0|\n",
      "|  6|         11.0|\n",
      "| 10|         11.0|\n",
      "|  8|         11.0|\n",
      "|  5|         11.0|\n",
      "| 10|         11.0|\n",
      "|  7|         11.0|\n",
      "|  7|         11.0|\n",
      "| 10|         11.0|\n",
      "| 10|         11.0|\n",
      "| 10|         11.0|\n",
      "| 13|         11.0|\n",
      "| 16|         11.0|\n",
      "|  9|         11.0|\n",
      "|  9|         11.0|\n",
      "| 10|         11.0|\n",
      "| 12|         11.0|\n",
      "|  8|         11.0|\n",
      "| 11|         11.0|\n",
      "+---+-------------+\n",
      "only showing top 20 rows\n",
      "\n"
     ]
    }
   ],
   "source": [
    "# Оценка модели\n",
    "evaluator = RegressionEvaluator(labelCol = \"Age\", predictionCol = \"predictionsIR\", metricName = \"rmse\")\n",
    "rmseIR = evaluator.evaluate(predictionsIR)\n",
    "tupleRMSE += (rmseIR,)\n",
    "print(\"Root Mean Squared Error (RMSE): %s\" % rmseIR)\n",
    "# Вывод результата и выключение SparkSession\n",
    "predictionsIR.select(\"Age\", \"predictionsIR\").show()"
   ]
  },
  {
   "cell_type": "code",
   "execution_count": 65,
   "id": "d4e46aa3-eec6-4304-9a7e-b41d196e5263",
   "metadata": {},
   "outputs": [],
   "source": [
    "# Создание модели FMRegressor\n",
    "fm = FMRegressor(featuresCol=\"features\", labelCol=\"Age\", predictionCol=\"prediction\",stepSize=0.001)\n",
    "# Создание конвейера\n",
    "pipelineFM = Pipeline(stages = [indexer, assembler, fm])\n",
    "# Fit the model\n",
    "modelFM = pipelineFM.fit(train)\n",
    "# Предсказание возраста на тестовой выборке\n",
    "predictionsFM = modelFM.transform(test).withColumnRenamed(\"prediction\", \"predictionsFM\")\n",
    "Pred_arr.append(predictionsFM)"
   ]
  },
  {
   "cell_type": "code",
   "execution_count": 66,
   "id": "234e2445-4e37-4db5-86f0-4ac4656b7402",
   "metadata": {},
   "outputs": [
    {
     "name": "stdout",
     "output_type": "stream",
     "text": [
      "Root Mean Squared Error (RMSE): 5.522154437259932\n",
      "+---+------------------+\n",
      "|Age|     predictionsFM|\n",
      "+---+------------------+\n",
      "|  7|1.1512895173329414|\n",
      "|  6|1.4204368081670415|\n",
      "|  6|1.5146357738547231|\n",
      "| 10|1.5580293055296135|\n",
      "|  8|1.5555683536719411|\n",
      "|  5|1.7565467800276313|\n",
      "| 10|1.7196058607925047|\n",
      "|  7| 2.095855550549667|\n",
      "|  7|2.1803587004735783|\n",
      "| 10|1.8738783332995934|\n",
      "| 10| 2.204154807017155|\n",
      "| 10|2.0909657159703077|\n",
      "| 13|1.9692696875090598|\n",
      "| 16|2.5443563706573045|\n",
      "|  9| 2.516111476156957|\n",
      "|  9|2.5272427484656736|\n",
      "| 10|  3.38541928675172|\n",
      "| 12|2.8357197296195533|\n",
      "|  8|2.9419795426335464|\n",
      "| 11| 2.617531685228274|\n",
      "+---+------------------+\n",
      "only showing top 20 rows\n",
      "\n"
     ]
    }
   ],
   "source": [
    "# Оценка модели\n",
    "evaluator = RegressionEvaluator(labelCol = \"Age\", predictionCol = \"predictionsFM\", metricName = \"rmse\")\n",
    "rmseFM = evaluator.evaluate(predictionsFM)\n",
    "tupleRMSE += (rmseFM,)\n",
    "print(\"Root Mean Squared Error (RMSE): %s\" % rmseFM)\n",
    "# Вывод результата и выключение SparkSession\n",
    "predictionsFM.select(\"Age\", \"predictionsFM\").show()"
   ]
  },
  {
   "cell_type": "code",
   "execution_count": 67,
   "id": "d5d86962-d438-4d88-a41e-a5ce891f90bf",
   "metadata": {},
   "outputs": [],
   "source": [
    "# Модель  `AFTSurvivalRegression`  не подходит для датасета  `CrabAgePrediction`, так как нет информации о том,  \n",
    "# живы ли были крабы, когда их поймали.\n",
    "\n",
    "# Эта модель предназначена для анализа данных выживания, где есть данные о времени до события (в данном случае, смерть) \n",
    "# и информация о том,  было ли это событие наблюдено (краб умер) или  **цензурировано**  (краб был жив, когда его поймали).  "
   ]
  },
  {
   "cell_type": "code",
   "execution_count": 68,
   "id": "ed06ed51-e45b-434e-9dc8-406023416bef",
   "metadata": {},
   "outputs": [],
   "source": [
    "glr = GeneralizedLinearRegression(featuresCol=\"features\", labelCol=\"Age\", family=\"gaussian\", link=\"identity\", maxIter=10, regParam=0.3)\n",
    "# Создание конвейера\n",
    "pipelineGLR = Pipeline(stages = [indexer, assembler, glr])\n",
    "# Fit the model\n",
    "modelGLR = pipelineGLR.fit(train)\n",
    "# Предсказание возраста на тестовой выборке\n",
    "predictionsGLR = modelGLR.transform(test).withColumnRenamed(\"prediction\", \"predictionsGLR\")\n",
    "Pred_arr.append(predictionsGLR)"
   ]
  },
  {
   "cell_type": "code",
   "execution_count": 69,
   "id": "d74f2b28-c31a-408a-970d-4a92f7a5f15a",
   "metadata": {},
   "outputs": [
    {
     "name": "stdout",
     "output_type": "stream",
     "text": [
      "Root Mean Squared Error (RMSE): 2.480306054560324\n",
      "+---+------------------+\n",
      "|Age|    predictionsGLR|\n",
      "+---+------------------+\n",
      "|  7|6.7257143482142645|\n",
      "|  6| 7.012450624758874|\n",
      "|  6| 7.212301877671122|\n",
      "| 10|  7.52178978718794|\n",
      "|  8| 7.399663489061817|\n",
      "|  5| 7.408322737372648|\n",
      "| 10|  7.81052590807068|\n",
      "|  7| 7.373699192238221|\n",
      "|  7| 8.089792653320917|\n",
      "| 10| 7.945737139683034|\n",
      "| 10| 7.955860666767313|\n",
      "| 10|  8.02361117859682|\n",
      "| 13|  7.94769223533339|\n",
      "| 16|  8.46245851371426|\n",
      "|  9| 7.932500096802977|\n",
      "|  9| 8.433056195117587|\n",
      "| 10| 8.768477266251686|\n",
      "| 12| 8.988716485388899|\n",
      "|  8| 8.671714913814188|\n",
      "| 11| 8.717477465388704|\n",
      "+---+------------------+\n",
      "only showing top 20 rows\n",
      "\n"
     ]
    }
   ],
   "source": [
    "# Оценка модели\n",
    "evaluator = RegressionEvaluator(labelCol = \"Age\", predictionCol = \"predictionsGLR\", metricName = \"rmse\")\n",
    "rmseGLR = evaluator.evaluate(predictionsGLR)\n",
    "tupleRMSE += (rmseGLR,)\n",
    "print(\"Root Mean Squared Error (RMSE): %s\" % rmseGLR)\n",
    "# Вывод результата и выключение SparkSession\n",
    "predictionsGLR.select(\"Age\", \"predictionsGLR\").show()"
   ]
  },
  {
   "cell_type": "code",
   "execution_count": 75,
   "id": "58dac84c-b333-41f3-8fe3-ca303dc2f391",
   "metadata": {},
   "outputs": [
    {
     "name": "stdout",
     "output_type": "stream",
     "text": [
      "root\n",
      " |-- RandomForestRegressor: double (nullable = true)\n",
      " |-- GBTRegressor: double (nullable = true)\n",
      " |-- LinearRegression: double (nullable = true)\n",
      " |-- DecisionTreeRegressor: double (nullable = true)\n",
      " |-- IsotonicRegression: double (nullable = true)\n",
      " |-- FMRegressor: double (nullable = true)\n",
      " |-- GeneralizedLinearRegression: double (nullable = true)\n",
      "\n"
     ]
    }
   ],
   "source": [
    "# Создаем списки моделей, выполняющихся том же в порядке выше\n",
    "modelsList = [\"RandomForestRegressor\", \"GBTRegressor\", \"LinearRegression\", \"DecisionTreeRegressor\", \n",
    "              \"IsotonicRegression\", \"FMRegressor\", \"GeneralizedLinearRegression\"]\n",
    "shortModelsList = [\"predictionsRF\", \"predictionsGBT\", \"predictionsLR\", \"predictionsDT\", \"predictionsIR\", \n",
    "                   \"predictionsFM\", \"predictionsGLR\"]\n",
    "\n",
    "# Схема нового DataFrame значений RMSE каждой модели\n",
    "schemaRMSE = StructType([\n",
    "    StructField(modelsList[0], DoubleType(), True),\n",
    "    StructField(modelsList[1], DoubleType(), True),\n",
    "    StructField(modelsList[2], DoubleType(), True),\n",
    "    StructField(modelsList[3], DoubleType(), True),\n",
    "    StructField(modelsList[4], DoubleType(), True),\n",
    "    StructField(modelsList[5], DoubleType(), True),\n",
    "    StructField(modelsList[6], DoubleType(), True)\n",
    "])\n",
    "# Создание DataFrame\n",
    "rmseDF = spark.createDataFrame([tupleRMSE], schemaRMSE)\n",
    "rmseDF.printSchema()"
   ]
  },
  {
   "cell_type": "code",
   "execution_count": 76,
   "id": "3cd31032-9ce0-4a45-bf4c-82976f9574b6",
   "metadata": {},
   "outputs": [
    {
     "name": "stdout",
     "output_type": "stream",
     "text": [
      "root\n",
      " |-- Age: integer (nullable = true)\n",
      " |-- predictionsRF: double (nullable = false)\n",
      " |-- predictionsGBT: double (nullable = false)\n",
      " |-- predictionsLR: double (nullable = false)\n",
      " |-- predictionsDT: double (nullable = false)\n",
      " |-- predictionsIR: double (nullable = false)\n",
      " |-- predictionsFM: double (nullable = false)\n",
      " |-- predictionsGLR: double (nullable = false)\n",
      "\n",
      "root\n",
      " |-- RandomForestRegressor: double (nullable = true)\n",
      " |-- GBTRegressor: double (nullable = true)\n",
      " |-- LinearRegression: double (nullable = true)\n",
      " |-- DecisionTreeRegressor: double (nullable = true)\n",
      " |-- IsotonicRegression: double (nullable = true)\n",
      " |-- FMRegressor: double (nullable = true)\n",
      " |-- GeneralizedLinearRegression: double (nullable = true)\n",
      "\n"
     ]
    }
   ],
   "source": [
    "for i, df in enumerate(Pred_arr):\n",
    "    df = df.withColumn(\"id\", monotonically_increasing_id())\n",
    "    Pred_arr[i] = df\n",
    "\n",
    "ListSelectedDF = [df.select(\"Age\", \"id\", shortModelsList[i]) for i, df in enumerate(Pred_arr)]\n",
    "predDF = ListSelectedDF[0]\n",
    "\n",
    "for i in range(1, len(ListSelectedDF)):\n",
    "    predDF = predDF.join(ListSelectedDF[i], on = [\"Age\", \"id\"], how = \"inner\")\n",
    "\n",
    "predDF = predDF.drop(\"id\")\n",
    "\n",
    "predDF.printSchema()\n",
    "rmseDF.printSchema()"
   ]
  },
  {
   "cell_type": "code",
   "execution_count": 78,
   "id": "d31b729a-4e62-42d7-8774-dde6d0cff9e1",
   "metadata": {},
   "outputs": [
    {
     "name": "stdout",
     "output_type": "stream",
     "text": [
      "root\n",
      " |-- Age: integer (nullable = true)\n",
      " |-- predictionsRF: double (nullable = false)\n",
      " |-- predictionsGBT: double (nullable = false)\n",
      " |-- predictionsLR: double (nullable = false)\n",
      " |-- predictionsDT: double (nullable = false)\n",
      " |-- predictionsIR: double (nullable = false)\n",
      " |-- predictionsFM: double (nullable = false)\n",
      " |-- predictionsGLR: double (nullable = false)\n",
      "\n",
      "root\n",
      " |-- RandomForestRegressor: double (nullable = true)\n",
      " |-- GBTRegressor: double (nullable = true)\n",
      " |-- LinearRegression: double (nullable = true)\n",
      " |-- DecisionTreeRegressor: double (nullable = true)\n",
      " |-- IsotonicRegression: double (nullable = true)\n",
      " |-- FMRegressor: double (nullable = true)\n",
      " |-- GeneralizedLinearRegression: double (nullable = true)\n",
      "\n",
      "Лучшая модель: GBTRegressor (RMSE: 2.4145932340710274)\n"
     ]
    }
   ],
   "source": [
    "predDF.printSchema()\n",
    "rmseDF.printSchema()\n",
    "# Вывод лучшего результата\n",
    "print(f\"Лучшая модель: {modelsList[rmseDF.head().index(min(rmseDF.head()))]} (RMSE: {min(rmseDF.head())})\")\n",
    "# Запись результатов в csv-файл\n",
    "rmseDF.write.csv(\"RMSE.csv\", mode = \"overwrite\", header = True)\n",
    "predDF.write.csv(\"Pred.csv\", mode = \"overwrite\", header = True)"
   ]
  },
  {
   "cell_type": "code",
   "execution_count": null,
   "id": "ab0a7032-5d8c-4617-af04-e4c21b324306",
   "metadata": {},
   "outputs": [],
   "source": [
    "spark.stop()"
   ]
  },
  {
   "cell_type": "code",
   "execution_count": null,
   "id": "6ae930fe-4792-4e23-bc0f-393c5340eaa5",
   "metadata": {},
   "outputs": [],
   "source": []
  }
 ],
 "metadata": {
  "kernelspec": {
   "display_name": "Python 3 (ipykernel)",
   "language": "python",
   "name": "python3"
  },
  "language_info": {
   "codemirror_mode": {
    "name": "ipython",
    "version": 3
   },
   "file_extension": ".py",
   "mimetype": "text/x-python",
   "name": "python",
   "nbconvert_exporter": "python",
   "pygments_lexer": "ipython3",
   "version": "3.10.12"
  }
 },
 "nbformat": 4,
 "nbformat_minor": 5
}
