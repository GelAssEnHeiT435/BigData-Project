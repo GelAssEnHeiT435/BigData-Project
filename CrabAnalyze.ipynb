{
 "cells": [
  {
   "cell_type": "code",
   "execution_count": 176,
   "id": "7153b922-5a92-49be-aa4b-b39f010be095",
   "metadata": {},
   "outputs": [],
   "source": [
    "from pyspark.ml.feature import VectorAssembler, StringIndexer\n",
    "from pyspark.ml.regression import RandomForestRegressor\n",
    "from pyspark.ml.evaluation import RegressionEvaluator\n",
    "from pyspark.ml.feature import VectorAssembler\n",
    "from pyspark.ml.regression import GBTRegressor\n",
    "from pyspark.ml.regression import LinearRegression\n",
    "from pyspark.ml.regression import DecisionTreeRegressor\n",
    "from pyspark.ml.regression import IsotonicRegression\n",
    "from pyspark.ml.regression import FMRegressor\n",
    "from pyspark.ml.regression import GeneralizedLinearRegression\n",
    "from pyspark.sql import SparkSession\n",
    "from pyspark.ml import Pipeline\n",
    "from pyspark.sql.functions import col"
   ]
  },
  {
   "cell_type": "code",
   "execution_count": 177,
   "id": "c4de6089-0596-491c-b979-31fd3e21a408",
   "metadata": {},
   "outputs": [
    {
     "name": "stdout",
     "output_type": "stream",
     "text": [
      "root\n",
      " |-- Sex: string (nullable = true)\n",
      " |-- Length: double (nullable = true)\n",
      " |-- Diameter: double (nullable = true)\n",
      " |-- Height: double (nullable = true)\n",
      " |-- Weight: double (nullable = true)\n",
      " |-- Shucked Weight: double (nullable = true)\n",
      " |-- Viscera Weight: double (nullable = true)\n",
      " |-- Shell Weight: double (nullable = true)\n",
      " |-- Age: integer (nullable = true)\n",
      "\n",
      "+---+------+--------+------+-----------+--------------+--------------+------------+---+\n",
      "|Sex|Length|Diameter|Height|     Weight|Shucked Weight|Viscera Weight|Shell Weight|Age|\n",
      "+---+------+--------+------+-----------+--------------+--------------+------------+---+\n",
      "|  F|1.4375|   1.175|0.4125| 24.6357155|    12.3320325|     5.5848515|    6.747181|  9|\n",
      "|  M|0.8875|    0.65|0.2125| 5.40057975|     2.2963095|    1.37495075|   1.5592225|  6|\n",
      "|  I|1.0375|   0.775|  0.25| 7.95203475|      3.231843|    1.60174675|  2.76407625|  6|\n",
      "|  F| 1.175|  0.8875|  0.25|13.48018725|    4.74854125|    2.28213475|   5.2446575| 10|\n",
      "|  I|0.8875|  0.6625|0.2125| 6.90310325|      3.458639|    1.48834875|     1.70097|  6|\n",
      "|  F|  1.55|  1.1625|  0.35| 28.6613445|    13.5794105|    6.76135575|   7.2291225|  8|\n",
      "|  F|   1.3|     1.0| 0.325|17.70426275|     6.0951425|    5.85417175|    4.819415| 15|\n",
      "|  M| 1.325|  1.0125| 0.375|23.57260925|      9.979024|     5.3013565|  7.15824875| 10|\n",
      "|  I|1.5875|    1.25|0.4125| 42.2124055|    20.2698925|    9.76640275| 10.24834425| 13|\n",
      "|  I|0.9125|  0.6875|0.3375|    6.80388|      3.061746|    1.26155275|  2.08368825|  7|\n",
      "|  M| 0.825|  0.5375|0.1875| 3.24601775|     1.2757275|    0.75126175|   0.9922325|  6|\n",
      "|  F|1.3625|    1.05|0.4375|  21.375523|      7.257472|    5.03203625|   7.7961125| 10|\n",
      "|  M|0.8625|  0.6375| 0.225| 5.68407475|      2.664853|    0.83631025|   1.7860185|  9|\n",
      "|  I| 1.375|   1.075|0.3625|  20.184844|    8.57572375|      4.309124|   6.3786375| 10|\n",
      "|  I| 1.225|    0.95|   0.3| 14.9968855|    6.13766675|     3.9405805|   4.3941725| 11|\n",
      "|  F|1.6375|  1.2875|   0.5|  42.354153|   20.56756225|     8.7599955|  11.4815475| 12|\n",
      "|  M|   1.6|  1.3125|  0.45|37.23706825|   13.79203175|    8.49067525| 11.55242125| 10|\n",
      "|  I|1.0625|   0.775| 0.225|  8.5331995|    3.92640575|     1.8427175|     2.26796|  7|\n",
      "|  M| 1.475|     1.1| 0.375|27.08794725|     10.375917|    6.87475375|   8.3631025| 11|\n",
      "|  I|0.7625|   0.575|0.1875| 4.12485225|    1.68679525|    0.86465975|    1.417475|  6|\n",
      "+---+------+--------+------+-----------+--------------+--------------+------------+---+\n",
      "only showing top 20 rows\n",
      "\n"
     ]
    }
   ],
   "source": [
    "# Создание SparkSession\n",
    "spark = SparkSession.builder.appName(\"CrabAgePrediction\").getOrCreate()\n",
    "# Загружаем датасет\n",
    "data = spark.read.csv(\"CrabAgePrediction.csv\", header = True, inferSchema = True)\n",
    "\n",
    "data.printSchema()\n",
    "data.show()"
   ]
  },
  {
   "cell_type": "code",
   "execution_count": 178,
   "id": "90fa70c4-5fb6-4a41-8f71-231cfd3c7f94",
   "metadata": {},
   "outputs": [
    {
     "name": "stdout",
     "output_type": "stream",
     "text": [
      "+---+------+--------+------+---------+--------------+--------------+------------+---+\n",
      "|Sex|Length|Diameter|Height|   Weight|Shucked Weight|Viscera Weight|Shell Weight|Age|\n",
      "+---+------+--------+------+---------+--------------+--------------+------------+---+\n",
      "|  F|0.6875|  0.4875| 0.175|  2.26796|     0.8788345|    0.60951425|   0.7087375|  5|\n",
      "|  F| 0.725|   0.525|0.1875|7.7961125|     3.2034935|    1.91359125|   0.9922325|  6|\n",
      "|  F| 0.725|  0.5625|0.1875|  3.96893|    1.45999925|    0.66621325|     1.13398|  5|\n",
      "+---+------+--------+------+---------+--------------+--------------+------------+---+\n",
      "only showing top 3 rows\n",
      "\n",
      "+---+------+--------+------+---------+--------------+--------------+------------+---+\n",
      "|Sex|Length|Diameter|Height|   Weight|Shucked Weight|Viscera Weight|Shell Weight|Age|\n",
      "+---+------+--------+------+---------+--------------+--------------+------------+---+\n",
      "|  F| 0.825|    0.65|   0.2|   5.6699|    1.77184375|      1.417475|    1.984465|  9|\n",
      "|  F| 0.875|  0.6875|0.1625|5.8116475|    2.11203775|    1.31825175|    1.984465| 10|\n",
      "|  F| 0.925|  0.6875|   0.2|6.4353365|     2.6365035|    1.77184375|    1.984465|  8|\n",
      "+---+------+--------+------+---------+--------------+--------------+------------+---+\n",
      "only showing top 3 rows\n",
      "\n",
      "2739\n",
      "1154\n"
     ]
    }
   ],
   "source": [
    "# Преобразуем Пол краба в числа\n",
    "indexer = StringIndexer(inputCol=\"Sex\", outputCol=\"SexIndex\")\n",
    "# Преобразовываем данные. Начинаем с выбора признаков\n",
    "features = [\"SexIndex\", \"Length\", \"Diameter\" , \"Height\", \"Weight\", \"Shucked Weight\", \"Viscera Weight\", \"Shell Weight\"]\n",
    "# Создаем вектор этих признаков\n",
    "assembler = VectorAssembler(inputCols=features, outputCol=\"features\")\n",
    "# Разделяем данные на обучение и тест\n",
    "(train, test) = data.randomSplit([0.7, 0.3], seed=12345)\n",
    "\n",
    "train.show(3)\n",
    "test.show(3)\n",
    "\n",
    "print(train.count())\n",
    "print(test.count())"
   ]
  },
  {
   "cell_type": "code",
   "execution_count": 162,
   "id": "b8ce2583-1527-4290-83e6-9067e711e0ac",
   "metadata": {},
   "outputs": [],
   "source": [
    "# Создаем модель\n",
    "rf = RandomForestRegressor(featuresCol = \"features\", labelCol= \"Age\")\n",
    "# Создаем конвейер\n",
    "pipelineRF = Pipeline(stages = [indexer, assembler, rf])\n",
    "# Обучение модели\n",
    "modelRF = pipelineRF.fit(train)\n",
    "# Предсказание возраста на тестовой выборке\n",
    "predictionsRF = modelRF.transform(test)"
   ]
  },
  {
   "cell_type": "code",
   "execution_count": 163,
   "id": "595fc68b-e661-49b1-819b-96d3578250a8",
   "metadata": {},
   "outputs": [
    {
     "name": "stdout",
     "output_type": "stream",
     "text": [
      "Root Mean Squared Error (RMSE): 2.2615401627561877\n",
      "+---+------------------+\n",
      "|Age|        prediction|\n",
      "+---+------------------+\n",
      "|  9| 7.988392648316643|\n",
      "| 10| 7.908705148316645|\n",
      "|  8| 8.045248288980488|\n",
      "|  7| 9.548391803438388|\n",
      "|  7| 8.000412326977736|\n",
      "|  8| 8.592632589196345|\n",
      "| 10| 8.720904423833051|\n",
      "|  9| 9.344447221980165|\n",
      "| 10| 8.911436173951397|\n",
      "|  7| 9.440142734707567|\n",
      "|  7| 9.337883154618444|\n",
      "|  8|  9.39839418522813|\n",
      "| 11| 9.443347582927702|\n",
      "|  6| 9.414458930156876|\n",
      "|  9|10.059943090170167|\n",
      "|  9| 9.443347582927702|\n",
      "| 13| 9.771095354233097|\n",
      "| 13|11.179394759835631|\n",
      "|  8| 9.810599704373693|\n",
      "| 13| 9.386385299029001|\n",
      "+---+------------------+\n",
      "only showing top 20 rows\n",
      "\n"
     ]
    }
   ],
   "source": [
    "# Оценка модели\n",
    "evaluator = RegressionEvaluator(labelCol = \"Age\", predictionCol = \"prediction\", metricName = \"rmse\")\n",
    "rmseRF = evaluator.evaluate(predictionsRF)\n",
    "print(\"Root Mean Squared Error (RMSE): %s\" % rmseRF)\n",
    "# Вывод результата и выключение SparkSession\n",
    "predictionsRF.select(\"Age\", \"prediction\").show()\n",
    "#spark.stop()"
   ]
  },
  {
   "cell_type": "code",
   "execution_count": 164,
   "id": "bb493e00-3593-4b2c-989a-cdf76e94e398",
   "metadata": {},
   "outputs": [],
   "source": [
    "# Создание модели градиентного бустинга\n",
    "gbt = GBTRegressor(featuresCol=\"features\", labelCol= \"Age\")\n",
    "# Создание конвейера\n",
    "pipelineGBT = Pipeline(stages = [indexer, assembler, gbt])\n",
    "# Обучение модели\n",
    "modelGBT = pipelineGBT.fit(train)\n",
    "# Предсказание возраста на тестовой выборке\n",
    "predictionsGBT = modelGBT.transform(test)"
   ]
  },
  {
   "cell_type": "code",
   "execution_count": 165,
   "id": "2e96de5b-957c-43bd-a0dc-7d2c217905a3",
   "metadata": {},
   "outputs": [
    {
     "name": "stdout",
     "output_type": "stream",
     "text": [
      "Root Mean Squared Error (RMSE): 2.2583145982417228\n",
      "+---+------------------+\n",
      "|Age|        prediction|\n",
      "+---+------------------+\n",
      "|  9| 7.601731414344994|\n",
      "| 10| 7.601731414344994|\n",
      "|  8|   8.1265215595973|\n",
      "|  7| 9.202069566653186|\n",
      "|  7| 8.148940461390136|\n",
      "|  8| 8.625205278476965|\n",
      "| 10| 9.279321550741239|\n",
      "|  9| 9.858380155538812|\n",
      "| 10| 9.124097604284172|\n",
      "|  7| 10.05637329458689|\n",
      "|  7| 9.509740903856851|\n",
      "|  8|10.108892601147291|\n",
      "| 11| 9.858380155538812|\n",
      "|  6| 9.509740903856851|\n",
      "|  9|12.294300980126295|\n",
      "|  9| 10.05637329458689|\n",
      "| 13|10.506719461440273|\n",
      "| 13|12.781374133515333|\n",
      "|  8|  7.67318735718679|\n",
      "| 13| 9.858380155538812|\n",
      "+---+------------------+\n",
      "only showing top 20 rows\n",
      "\n"
     ]
    }
   ],
   "source": [
    "# Оценка модели\n",
    "evaluator = RegressionEvaluator(labelCol = \"Age\", predictionCol = \"prediction\", metricName = \"rmse\")\n",
    "rmseGBT = evaluator.evaluate(predictionsGBT)\n",
    "print(\"Root Mean Squared Error (RMSE): %s\" % rmseGBT)\n",
    "# Вывод результата и выключение SparkSession\n",
    "predictionsGBT.select(\"Age\", \"prediction\").show()\n",
    "#spark.stop()"
   ]
  },
  {
   "cell_type": "code",
   "execution_count": 166,
   "id": "98ed5f72-8cfa-4239-a076-954890ba25a2",
   "metadata": {},
   "outputs": [],
   "source": [
    "# Создание модели линейной регрессии\n",
    "lr = LinearRegression(featuresCol=\"features\", labelCol=\"Age\", maxIter=10, regParam=0.3, elasticNetParam=0.8) \n",
    "# Создание конвейера\n",
    "pipelineLR = Pipeline(stages = [indexer, assembler, lr])\n",
    "# Fit the model\n",
    "modelLR = pipelineLR.fit(train)\n",
    "# Предсказание возраста на тестовой выборке\n",
    "predictionsLR = modelLR.transform(test)"
   ]
  },
  {
   "cell_type": "code",
   "execution_count": 167,
   "id": "fdcab750-aeb4-481a-a91a-b433ca881ffd",
   "metadata": {},
   "outputs": [
    {
     "name": "stdout",
     "output_type": "stream",
     "text": [
      "Root Mean Squared Error (RMSE): 2.579961653876411\n",
      "+---+------------------+\n",
      "|Age|        prediction|\n",
      "+---+------------------+\n",
      "|  9| 7.647080104576439|\n",
      "| 10| 7.376432872738925|\n",
      "|  8|  7.66477689077303|\n",
      "|  7| 9.301119967955419|\n",
      "|  7| 7.742347246965229|\n",
      "|  8| 8.110474241504926|\n",
      "| 10| 8.372539183279702|\n",
      "|  9| 8.586246080405784|\n",
      "| 10| 8.441845873542388|\n",
      "|  7| 8.939013512479402|\n",
      "|  7| 8.598110909783623|\n",
      "|  8| 8.511591736817113|\n",
      "| 11|  8.80385732399132|\n",
      "|  6| 8.612277066622966|\n",
      "|  9|  9.02461930256062|\n",
      "|  9| 8.911731123024163|\n",
      "| 13| 9.265305866499462|\n",
      "| 13| 9.640374692545175|\n",
      "|  8|28.359676441418646|\n",
      "| 13| 8.740840898929894|\n",
      "+---+------------------+\n",
      "only showing top 20 rows\n",
      "\n"
     ]
    }
   ],
   "source": [
    "# Оценка модели\n",
    "evaluator = RegressionEvaluator(labelCol = \"Age\", predictionCol = \"prediction\", metricName = \"rmse\")\n",
    "rmseLR = evaluator.evaluate(predictionsLR)\n",
    "print(\"Root Mean Squared Error (RMSE): %s\" % rmseLR)\n",
    "# Вывод результата и выключение SparkSession\n",
    "predictionsLR.select(\"Age\", \"prediction\").show()\n",
    "#spark.stop()"
   ]
  },
  {
   "cell_type": "code",
   "execution_count": 168,
   "id": "1e3503eb-cc60-4f5d-82ea-5c74bc213bc2",
   "metadata": {},
   "outputs": [],
   "source": [
    "# Создание модели решающих деервьев\n",
    "dt = DecisionTreeRegressor(featuresCol=\"features\", labelCol=\"Age\")\n",
    "# Создание конвейера\n",
    "pipelineDT = Pipeline(stages = [indexer, assembler, dt])\n",
    "# Fit the model\n",
    "modelDT = pipelineDT.fit(train)\n",
    "# Предсказание возраста на тестовой выборке\n",
    "predictionsDT = modelDT.transform(test)"
   ]
  },
  {
   "cell_type": "code",
   "execution_count": 170,
   "id": "15202ee5-c9d1-4a4b-bb2c-a0ca76e12f71",
   "metadata": {},
   "outputs": [
    {
     "name": "stdout",
     "output_type": "stream",
     "text": [
      "Root Mean Squared Error (RMSE): 2.3033106593033175\n",
      "+---+------------------+\n",
      "|Age|        prediction|\n",
      "+---+------------------+\n",
      "|  9| 8.515463917525773|\n",
      "| 10| 8.515463917525773|\n",
      "|  8| 8.515463917525773|\n",
      "|  7| 9.052631578947368|\n",
      "|  7| 8.515463917525773|\n",
      "|  8| 8.515463917525773|\n",
      "| 10| 8.515463917525773|\n",
      "|  9| 9.756944444444445|\n",
      "| 10| 8.515463917525773|\n",
      "|  7| 9.756944444444445|\n",
      "|  7| 9.756944444444445|\n",
      "|  8| 9.756944444444445|\n",
      "| 11| 9.756944444444445|\n",
      "|  6| 9.756944444444445|\n",
      "|  9| 9.756944444444445|\n",
      "|  9| 9.756944444444445|\n",
      "| 13| 9.756944444444445|\n",
      "| 13|11.507537688442211|\n",
      "|  8| 7.804878048780488|\n",
      "| 13| 9.756944444444445|\n",
      "+---+------------------+\n",
      "only showing top 20 rows\n",
      "\n"
     ]
    }
   ],
   "source": [
    "# Оценка модели\n",
    "evaluator = RegressionEvaluator(labelCol = \"Age\", predictionCol = \"prediction\", metricName = \"rmse\")\n",
    "rmseDT = evaluator.evaluate(predictionsDT)\n",
    "print(\"Root Mean Squared Error (RMSE): %s\" % rmseDT)\n",
    "# Вывод результата и выключение SparkSession\n",
    "predictionsDT.select(\"Age\", \"prediction\").show()\n",
    "#spark.stop()"
   ]
  },
  {
   "cell_type": "code",
   "execution_count": 171,
   "id": "2452bde3-dbe8-4d69-ade3-3436d83e7d7e",
   "metadata": {},
   "outputs": [],
   "source": [
    "# Создание модели изотонической регрессии\n",
    "ir = IsotonicRegression(featuresCol=\"features\", labelCol=\"Age\")\n",
    "# Создание конвейера\n",
    "pipelineIR = Pipeline(stages = [indexer, assembler, ir])\n",
    "# Fit the model\n",
    "modelIR = pipelineIR.fit(train)\n",
    "# Предсказание возраста на тестовой выборке\n",
    "predictionsIR = modelIR.transform(test)"
   ]
  },
  {
   "cell_type": "code",
   "execution_count": 172,
   "id": "752bd8f9-d795-4a7c-a3fd-3faf6e692e1e",
   "metadata": {},
   "outputs": [
    {
     "name": "stdout",
     "output_type": "stream",
     "text": [
      "Root Mean Squared Error (RMSE): 3.912391248823117\n",
      "+---+------------------+\n",
      "|Age|        prediction|\n",
      "+---+------------------+\n",
      "|  9|10.181337181337181|\n",
      "| 10|10.181337181337181|\n",
      "|  8|10.181337181337181|\n",
      "|  7|10.181337181337181|\n",
      "|  7|10.181337181337181|\n",
      "|  8|10.181337181337181|\n",
      "| 10|10.181337181337181|\n",
      "|  9|10.181337181337181|\n",
      "| 10|10.181337181337181|\n",
      "|  7|10.181337181337181|\n",
      "|  7|10.181337181337181|\n",
      "|  8|10.181337181337181|\n",
      "| 11|10.181337181337181|\n",
      "|  6|10.181337181337181|\n",
      "|  9|10.181337181337181|\n",
      "|  9|10.181337181337181|\n",
      "| 13|10.181337181337181|\n",
      "| 13|10.181337181337181|\n",
      "|  8|10.181337181337181|\n",
      "| 13|10.181337181337181|\n",
      "+---+------------------+\n",
      "only showing top 20 rows\n",
      "\n"
     ]
    }
   ],
   "source": [
    "# Оценка модели\n",
    "evaluator = RegressionEvaluator(labelCol = \"Age\", predictionCol = \"prediction\", metricName = \"rmse\")\n",
    "rmseIR = evaluator.evaluate(predictionsIR)\n",
    "print(\"Root Mean Squared Error (RMSE): %s\" % rmseIR)\n",
    "# Вывод результата и выключение SparkSession\n",
    "predictionsIR.select(\"Age\", \"prediction\").show()\n",
    "#spark.stop()"
   ]
  },
  {
   "cell_type": "code",
   "execution_count": 173,
   "id": "d4e46aa3-eec6-4304-9a7e-b41d196e5263",
   "metadata": {},
   "outputs": [],
   "source": [
    "# Создание модели FMRegressor\n",
    "fm = FMRegressor(featuresCol=\"features\", labelCol=\"Age\", predictionCol=\"prediction\",stepSize=0.001)\n",
    "# Создание конвейера\n",
    "pipelineFM = Pipeline(stages = [indexer, assembler, fm])\n",
    "# Fit the model\n",
    "modelFM = pipelineFM.fit(train)\n",
    "# Предсказание возраста на тестовой выборке\n",
    "predictionsFM = modelFM.transform(test)"
   ]
  },
  {
   "cell_type": "code",
   "execution_count": 174,
   "id": "234e2445-4e37-4db5-86f0-4ac4656b7402",
   "metadata": {},
   "outputs": [
    {
     "name": "stdout",
     "output_type": "stream",
     "text": [
      "Root Mean Squared Error (RMSE): 5.35109053198643\n",
      "+---+------------------+\n",
      "|Age|        prediction|\n",
      "+---+------------------+\n",
      "|  9|1.3120302935748251|\n",
      "| 10|1.3541586261200584|\n",
      "|  8|1.5336236978486755|\n",
      "|  7| 4.026391330554553|\n",
      "|  7|1.8983260448229755|\n",
      "|  8|1.8517696853303236|\n",
      "| 10|1.8931313322409584|\n",
      "|  9|2.3402544906660534|\n",
      "| 10|2.0773916644682973|\n",
      "|  7|2.7406158867610104|\n",
      "|  7|2.9277645764985603|\n",
      "|  8|  2.46503516280356|\n",
      "| 11| 2.793089647795517|\n",
      "|  6|2.9979136278488148|\n",
      "|  9|2.9432307343815083|\n",
      "|  9| 2.853777826972006|\n",
      "| 13|3.8249887069256774|\n",
      "| 13|3.6753797938273696|\n",
      "|  8|  5.37600673173027|\n",
      "| 13|2.5580406619571927|\n",
      "+---+------------------+\n",
      "only showing top 20 rows\n",
      "\n"
     ]
    }
   ],
   "source": [
    "# Оценка модели\n",
    "evaluator = RegressionEvaluator(labelCol = \"Age\", predictionCol = \"prediction\", metricName = \"rmse\")\n",
    "rmseFM = evaluator.evaluate(predictionsFM)\n",
    "print(\"Root Mean Squared Error (RMSE): %s\" % rmseFM)\n",
    "# Вывод результата и выключение SparkSession\n",
    "predictionsFM.select(\"Age\", \"prediction\").show()\n",
    "#spark.stop()"
   ]
  },
  {
   "cell_type": "code",
   "execution_count": 158,
   "id": "d5d86962-d438-4d88-a41e-a5ce891f90bf",
   "metadata": {},
   "outputs": [],
   "source": [
    "# Модель  `AFTSurvivalRegression`  не подходит для датасета  `CrabAgePrediction`, так как нет информации о том,  \n",
    "# живы ли были крабы, когда их поймали.\n",
    "\n",
    "# Эта модель предназначена для анализа данных выживания, где есть данные о времени до события (в данном случае, смерть) \n",
    "# и информация о том,  было ли это событие наблюдено (краб умер) или  **цензурировано**  (краб был жив, когда его поймали).  "
   ]
  },
  {
   "cell_type": "code",
   "execution_count": 179,
   "id": "ed06ed51-e45b-434e-9dc8-406023416bef",
   "metadata": {},
   "outputs": [
    {
     "name": "stderr",
     "output_type": "stream",
     "text": [
      "24/06/09 01:56:27 WARN LAPACK: Failed to load implementation from: com.github.fommil.netlib.NativeSystemLAPACK\n",
      "24/06/09 01:56:27 WARN LAPACK: Failed to load implementation from: com.github.fommil.netlib.NativeRefLAPACK\n"
     ]
    }
   ],
   "source": [
    "glr = GeneralizedLinearRegression(featuresCol=\"features\", labelCol=\"Age\", family=\"gaussian\", link=\"identity\", maxIter=10, regParam=0.3)\n",
    "# Создание конвейера\n",
    "pipelineGLR = Pipeline(stages = [indexer, assembler, glr])\n",
    "# Fit the model\n",
    "modelGLR = pipelineGLR.fit(train)\n",
    "# Предсказание возраста на тестовой выборке\n",
    "predictionsGLR = modelGLR.transform(test)"
   ]
  },
  {
   "cell_type": "code",
   "execution_count": 180,
   "id": "d74f2b28-c31a-408a-970d-4a92f7a5f15a",
   "metadata": {},
   "outputs": [
    {
     "name": "stdout",
     "output_type": "stream",
     "text": [
      "Root Mean Squared Error (RMSE): 2.3887452525121136\n",
      "+---+------------------+\n",
      "|Age|        prediction|\n",
      "+---+------------------+\n",
      "|  9| 7.494100623301231|\n",
      "| 10| 7.178808381551332|\n",
      "|  8| 7.433041136683782|\n",
      "|  7| 8.685829205427842|\n",
      "|  7| 7.334002582304484|\n",
      "|  8| 7.985053710573677|\n",
      "| 10|  8.33746522216055|\n",
      "|  9|  8.61636127335104|\n",
      "| 10| 8.490470332227247|\n",
      "|  7|  9.16165662431091|\n",
      "|  7| 8.526349983048226|\n",
      "|  8|  8.63925358802613|\n",
      "| 11| 9.038253044888194|\n",
      "|  6| 8.419051995114586|\n",
      "|  9| 8.997563331236265|\n",
      "|  9| 9.110619617715807|\n",
      "| 13| 9.210283301035286|\n",
      "| 13|10.105747252959798|\n",
      "|  8| 31.62050909871427|\n",
      "| 13| 9.006838873792155|\n",
      "+---+------------------+\n",
      "only showing top 20 rows\n",
      "\n"
     ]
    }
   ],
   "source": [
    "# Оценка модели\n",
    "evaluator = RegressionEvaluator(labelCol = \"Age\", predictionCol = \"prediction\", metricName = \"rmse\")\n",
    "rmseGLR = evaluator.evaluate(predictionsGLR)\n",
    "print(\"Root Mean Squared Error (RMSE): %s\" % rmseGLR)\n",
    "# Вывод результата и выключение SparkSession\n",
    "predictionsGLR.select(\"Age\", \"prediction\").show()\n",
    "#spark.stop()"
   ]
  },
  {
   "cell_type": "code",
   "execution_count": 181,
   "id": "808f4ead-0c11-4125-bbbc-805e2b882f0c",
   "metadata": {},
   "outputs": [
    {
     "name": "stdout",
     "output_type": "stream",
     "text": [
      "Лучшая модель: Gradient Boosted Trees (RMSE: 2.2583145982417228)\n"
     ]
    }
   ],
   "source": [
    "# Вывод лучшего метода\n",
    "#Можно было бы еще записывать результаты в словарь \n",
    "best_model = \"\"\n",
    "best_rmse = float(\"inf\")\n",
    "if rmseLR < best_rmse:\n",
    "    best_model = \"Linear Regression\"\n",
    "    best_rmse = rmseLR\n",
    "if rmseRF < best_rmse:\n",
    "    best_model = \"Random Forest\"\n",
    "    best_rmse = rmseRF\n",
    "if rmseGBT < best_rmse:\n",
    "    best_model = \"Gradient Boosted Trees\"\n",
    "    best_rmse = rmseGBT\n",
    "if rmseFM < best_rmse:\n",
    "    best_model = \"Factorization machines regressor\"\n",
    "    best_rmse = rmseLR\n",
    "if rmseIR < best_rmse:\n",
    "    best_model = \"Isotonic Regression\"\n",
    "    best_rmse = rmseRF\n",
    "if rmseDT < best_rmse:\n",
    "    best_model = \"Decision Tree Regressor\"\n",
    "    best_rmse = rmseGBT\n",
    "if rmseGLR < best_rmse:\n",
    "    best_model = \"Generalized Linear Regression\"\n",
    "    best_rmse = rmseGLR\n",
    "print(f\"Лучшая модель: {best_model} (RMSE: {best_rmse})\")\n",
    "spark.stop()"
   ]
  },
  {
   "cell_type": "code",
   "execution_count": null,
   "id": "324c91d5-ee52-45bc-9f19-44ce068639d4",
   "metadata": {},
   "outputs": [],
   "source": []
  }
 ],
 "metadata": {
  "kernelspec": {
   "display_name": "Python 3 (ipykernel)",
   "language": "python",
   "name": "python3"
  },
  "language_info": {
   "codemirror_mode": {
    "name": "ipython",
    "version": 3
   },
   "file_extension": ".py",
   "mimetype": "text/x-python",
   "name": "python",
   "nbconvert_exporter": "python",
   "pygments_lexer": "ipython3",
   "version": "3.10.12"
  }
 },
 "nbformat": 4,
 "nbformat_minor": 5
}
