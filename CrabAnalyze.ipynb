{
 "cells": [
  {
   "cell_type": "code",
   "execution_count": 1,
   "id": "c4de6089-0596-491c-b979-31fd3e21a408",
   "metadata": {},
   "outputs": [
    {
     "name": "stdout",
     "output_type": "stream",
     "text": [
      "root\n",
      " |-- Sex: string (nullable = true)\n",
      " |-- Length: string (nullable = true)\n",
      " |-- Diameter: string (nullable = true)\n",
      " |-- Height: string (nullable = true)\n",
      " |-- Weight: string (nullable = true)\n",
      " |-- Shucked Weight: string (nullable = true)\n",
      " |-- Viscera Weight: string (nullable = true)\n",
      " |-- Shell Weight: string (nullable = true)\n",
      " |-- Age: string (nullable = true)\n",
      "\n",
      "+---+------+--------+------+-----------+--------------+--------------+------------+---+\n",
      "|Sex|Length|Diameter|Height|     Weight|Shucked Weight|Viscera Weight|Shell Weight|Age|\n",
      "+---+------+--------+------+-----------+--------------+--------------+------------+---+\n",
      "|  F|1.4375|   1.175|0.4125| 24.6357155|    12.3320325|     5.5848515|    6.747181|  9|\n",
      "|  M|0.8875|    0.65|0.2125| 5.40057975|     2.2963095|    1.37495075|   1.5592225|  6|\n",
      "|  I|1.0375|   0.775|  0.25| 7.95203475|      3.231843|    1.60174675|  2.76407625|  6|\n",
      "|  F| 1.175|  0.8875|  0.25|13.48018725|    4.74854125|    2.28213475|   5.2446575| 10|\n",
      "|  I|0.8875|  0.6625|0.2125| 6.90310325|      3.458639|    1.48834875|     1.70097|  6|\n",
      "|  F|  1.55|  1.1625|  0.35| 28.6613445|    13.5794105|    6.76135575|   7.2291225|  8|\n",
      "|  F|   1.3|       1| 0.325|17.70426275|     6.0951425|    5.85417175|    4.819415| 15|\n",
      "|  M| 1.325|  1.0125| 0.375|23.57260925|      9.979024|     5.3013565|  7.15824875| 10|\n",
      "|  I|1.5875|    1.25|0.4125| 42.2124055|    20.2698925|    9.76640275| 10.24834425| 13|\n",
      "|  I|0.9125|  0.6875|0.3375|    6.80388|      3.061746|    1.26155275|  2.08368825|  7|\n",
      "|  M| 0.825|  0.5375|0.1875| 3.24601775|     1.2757275|    0.75126175|   0.9922325|  6|\n",
      "|  F|1.3625|    1.05|0.4375|  21.375523|      7.257472|    5.03203625|   7.7961125| 10|\n",
      "|  M|0.8625|  0.6375| 0.225| 5.68407475|      2.664853|    0.83631025|   1.7860185|  9|\n",
      "|  I| 1.375|   1.075|0.3625|  20.184844|    8.57572375|      4.309124|   6.3786375| 10|\n",
      "|  I| 1.225|    0.95|   0.3| 14.9968855|    6.13766675|     3.9405805|   4.3941725| 11|\n",
      "|  F|1.6375|  1.2875|   0.5|  42.354153|   20.56756225|     8.7599955|  11.4815475| 12|\n",
      "|  M|   1.6|  1.3125|  0.45|37.23706825|   13.79203175|    8.49067525| 11.55242125| 10|\n",
      "|  I|1.0625|   0.775| 0.225|  8.5331995|    3.92640575|     1.8427175|     2.26796|  7|\n",
      "|  M| 1.475|     1.1| 0.375|27.08794725|     10.375917|    6.87475375|   8.3631025| 11|\n",
      "|  I|0.7625|   0.575|0.1875| 4.12485225|    1.68679525|    0.86465975|    1.417475|  6|\n",
      "+---+------+--------+------+-----------+--------------+--------------+------------+---+\n",
      "only showing top 20 rows\n",
      "\n"
     ]
    }
   ],
   "source": [
    "DF = spark.read.option(\"sep\", \",\").option(\"header\", \"true\").csv(\"CrabAgePrediction.csv\")\n",
    "DF.printSchema()\n",
    "DF.show()"
   ]
  },
  {
   "cell_type": "code",
   "execution_count": 3,
   "id": "90fa70c4-5fb6-4a41-8f71-231cfd3c7f94",
   "metadata": {},
   "outputs": [
    {
     "name": "stdout",
     "output_type": "stream",
     "text": [
      "+---+------+--------+------+----------+--------------+--------------+------------+---+\n",
      "|Sex|Length|Diameter|Height|    Weight|Shucked Weight|Viscera Weight|Shell Weight|Age|\n",
      "+---+------+--------+------+----------+--------------+--------------+------------+---+\n",
      "|  F|0.7625|  0.5625| 0.175|4.20990075|    1.65844575|    0.94970825|   1.2757275|  7|\n",
      "|  F|0.8125|    0.65| 0.225|5.42892925|     2.4097075|      1.020582|    1.757669|  7|\n",
      "|  F| 0.825|    0.65|   0.2|    5.6699|    1.77184375|      1.417475|    1.984465|  9|\n",
      "+---+------+--------+------+----------+--------------+--------------+------------+---+\n",
      "only showing top 3 rows\n",
      "\n",
      "+---+------+--------+------+---------+--------------+--------------+------------+---+\n",
      "|Sex|Length|Diameter|Height|   Weight|Shucked Weight|Viscera Weight|Shell Weight|Age|\n",
      "+---+------+--------+------+---------+--------------+--------------+------------+---+\n",
      "|  F|0.6875|  0.4875| 0.175|  2.26796|     0.8788345|    0.60951425|   0.7087375|  5|\n",
      "|  F| 0.725|   0.525|0.1875|7.7961125|     3.2034935|    1.91359125|   0.9922325|  6|\n",
      "|  F| 0.725|  0.5625|0.1875|  3.96893|    1.45999925|    0.66621325|     1.13398|  5|\n",
      "+---+------+--------+------+---------+--------------+--------------+------------+---+\n",
      "only showing top 3 rows\n",
      "\n"
     ]
    }
   ],
   "source": [
    "weights=[0.7, 0.3]\n",
    "train, test = DF.randomSplit(weights)\n",
    "train.show(3)\n",
    "test.show(3)"
   ]
  },
  {
   "cell_type": "code",
   "execution_count": 10,
   "id": "e8ddcfc7-147b-4acb-bc6c-34944c0eb972",
   "metadata": {},
   "outputs": [
    {
     "name": "stdout",
     "output_type": "stream",
     "text": [
      "2770\n",
      "1123\n"
     ]
    }
   ],
   "source": [
    "print(train.count())\n",
    "print(test.count())"
   ]
  },
  {
   "cell_type": "code",
   "execution_count": 24,
   "id": "7153b922-5a92-49be-aa4b-b39f010be095",
   "metadata": {},
   "outputs": [],
   "source": [
    "from pyspark.sql import SparkSession\n",
    "from pyspark.ml.feature import VectorAssembler\n",
    "from pyspark.ml.regression import RandomForestRegressor\n",
    "from pyspark.ml.evaluation import RegressionEvaluator\n",
    "from pyspark.ml import Pipeline\n",
    "from pyspark.ml.feature import VectorAssembler, StringIndexer"
   ]
  },
  {
   "cell_type": "code",
   "execution_count": 25,
   "id": "595fc68b-e661-49b1-819b-96d3578250a8",
   "metadata": {},
   "outputs": [
    {
     "name": "stdout",
     "output_type": "stream",
     "text": [
      "Root Mean Squared Error (RMSE): 2.2615401627561877\n",
      "+---+------------------+\n",
      "|Age|        prediction|\n",
      "+---+------------------+\n",
      "|  9| 7.988392648316643|\n",
      "| 10| 7.908705148316645|\n",
      "|  8| 8.045248288980488|\n",
      "|  7| 9.548391803438388|\n",
      "|  7| 8.000412326977736|\n",
      "|  8| 8.592632589196345|\n",
      "| 10| 8.720904423833051|\n",
      "|  9| 9.344447221980165|\n",
      "| 10| 8.911436173951397|\n",
      "|  7| 9.440142734707567|\n",
      "|  7| 9.337883154618444|\n",
      "|  8|  9.39839418522813|\n",
      "| 11| 9.443347582927702|\n",
      "|  6| 9.414458930156876|\n",
      "|  9|10.059943090170167|\n",
      "|  9| 9.443347582927702|\n",
      "| 13| 9.771095354233097|\n",
      "| 13|11.179394759835631|\n",
      "|  8| 9.810599704373693|\n",
      "| 13| 9.386385299029001|\n",
      "+---+------------------+\n",
      "only showing top 20 rows\n",
      "\n"
     ]
    }
   ],
   "source": [
    "# Создание SparkSession\n",
    "spark = SparkSession.builder.appName(\"CrabAgePrediction\").getOrCreate()\n",
    "# Загружаем датасет\n",
    "data = spark.read.csv(\"CrabAgePrediction.csv\", header = True, inferSchema = True)\n",
    "# Преобразуем Пол краба в числа\n",
    "indexer = StringIndexer(inputCol=\"Sex\", outputCol=\"SexIndex\")\n",
    "# Преобразовываем данные. Начинаем с выбора признаков\n",
    "features = [\"SexIndex\", \"Length\", \"Diameter\" , \"Height\", \"Weight\", \"Shucked Weight\", \"Viscera Weight\", \"Shell Weight\"]\n",
    "# Создаем вектор этих признаков\n",
    "assembler = VectorAssembler(inputCols=features, outputCol=\"features\")\n",
    "# Разделяем данные на обучение и тест\n",
    "(trainingData, testData) = data.randomSplit([0.7, 0.3], seed=12345)\n",
    "# Создаем модель\n",
    "rf = RandomForestRegressor(featuresCol = \"features\", labelCol= \"Age\")\n",
    "# Создаем конвейер\n",
    "pipeline = Pipeline(stages = [indexer, assembler, rf])\n",
    "# Обучение модели\n",
    "model = pipeline.fit(trainingData)\n",
    "# Предсказание возраста на тестовой выборке\n",
    "predictions = model.transform(testData)\n",
    "# Оценка модели\n",
    "evaluator = RegressionEvaluator(labelCol = \"Age\", predictionCol = \"prediction\", metricName = \"rmse\")\n",
    "rmse = evaluator.evaluate(predictions)\n",
    "print(\"Root Mean Squared Error (RMSE): %s\" % rmse)\n",
    "# Вывод результата и выключение SparkSession\n",
    "predictions.select(\"Age\", \"prediction\").show()\n",
    "spark.stop()"
   ]
  },
  {
   "cell_type": "code",
   "execution_count": null,
   "id": "5597d602-0524-4ea1-993e-8869f5635811",
   "metadata": {},
   "outputs": [],
   "source": []
  }
 ],
 "metadata": {
  "kernelspec": {
   "display_name": "Python 3 (ipykernel)",
   "language": "python",
   "name": "python3"
  },
  "language_info": {
   "codemirror_mode": {
    "name": "ipython",
    "version": 3
   },
   "file_extension": ".py",
   "mimetype": "text/x-python",
   "name": "python",
   "nbconvert_exporter": "python",
   "pygments_lexer": "ipython3",
   "version": "3.10.12"
  }
 },
 "nbformat": 4,
 "nbformat_minor": 5
}
