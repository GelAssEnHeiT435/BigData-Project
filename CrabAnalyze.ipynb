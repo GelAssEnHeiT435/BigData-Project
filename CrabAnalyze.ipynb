{
 "cells": [
  {
   "cell_type": "code",
   "execution_count": 181,
   "id": "7153b922-5a92-49be-aa4b-b39f010be095",
   "metadata": {},
   "outputs": [],
   "source": [
    "from pyspark.sql.types import StructType, StructField, StringType, IntegerType, DoubleType\n",
    "from pyspark.sql.functions import monotonically_increasing_id, format_number\n",
    "from pyspark.ml.feature import VectorAssembler, StringIndexer\n",
    "from pyspark.ml.regression import GeneralizedLinearRegression\n",
    "from pyspark.ml.regression import RandomForestRegressor\n",
    "from pyspark.ml.regression import DecisionTreeRegressor\n",
    "from pyspark.ml.evaluation import RegressionEvaluator\n",
    "from pyspark.ml.regression import IsotonicRegression\n",
    "from pyspark.ml.regression import LinearRegression\n",
    "\n",
    "from pyspark.ml.regression import GBTRegressor\n",
    "from pyspark.ml.regression import FMRegressor\n",
    "from pyspark.sql import SparkSession, Row\n",
    "from pyspark.sql.functions import col\n",
    "from pyspark.ml import Pipeline\n",
    "import numpy as np"
   ]
  },
  {
   "cell_type": "code",
   "execution_count": 182,
   "id": "c4de6089-0596-491c-b979-31fd3e21a408",
   "metadata": {},
   "outputs": [
    {
     "name": "stdout",
     "output_type": "stream",
     "text": [
      "root\n",
      " |-- Sex: string (nullable = true)\n",
      " |-- Length: double (nullable = true)\n",
      " |-- Diameter: double (nullable = true)\n",
      " |-- Height: double (nullable = true)\n",
      " |-- Weight: double (nullable = true)\n",
      " |-- Shucked Weight: double (nullable = true)\n",
      " |-- Viscera Weight: double (nullable = true)\n",
      " |-- Shell Weight: double (nullable = true)\n",
      " |-- Age: integer (nullable = true)\n",
      "\n",
      "+---+------+--------+------+-----------+--------------+--------------+------------+---+\n",
      "|Sex|Length|Diameter|Height|     Weight|Shucked Weight|Viscera Weight|Shell Weight|Age|\n",
      "+---+------+--------+------+-----------+--------------+--------------+------------+---+\n",
      "|  F|1.4375|   1.175|0.4125| 24.6357155|    12.3320325|     5.5848515|    6.747181|  9|\n",
      "|  M|0.8875|    0.65|0.2125| 5.40057975|     2.2963095|    1.37495075|   1.5592225|  6|\n",
      "|  I|1.0375|   0.775|  0.25| 7.95203475|      3.231843|    1.60174675|  2.76407625|  6|\n",
      "|  F| 1.175|  0.8875|  0.25|13.48018725|    4.74854125|    2.28213475|   5.2446575| 10|\n",
      "|  I|0.8875|  0.6625|0.2125| 6.90310325|      3.458639|    1.48834875|     1.70097|  6|\n",
      "|  F|  1.55|  1.1625|  0.35| 28.6613445|    13.5794105|    6.76135575|   7.2291225|  8|\n",
      "|  F|   1.3|     1.0| 0.325|17.70426275|     6.0951425|    5.85417175|    4.819415| 15|\n",
      "|  M| 1.325|  1.0125| 0.375|23.57260925|      9.979024|     5.3013565|  7.15824875| 10|\n",
      "|  I|1.5875|    1.25|0.4125| 42.2124055|    20.2698925|    9.76640275| 10.24834425| 13|\n",
      "|  I|0.9125|  0.6875|0.3375|    6.80388|      3.061746|    1.26155275|  2.08368825|  7|\n",
      "|  M| 0.825|  0.5375|0.1875| 3.24601775|     1.2757275|    0.75126175|   0.9922325|  6|\n",
      "|  F|1.3625|    1.05|0.4375|  21.375523|      7.257472|    5.03203625|   7.7961125| 10|\n",
      "|  M|0.8625|  0.6375| 0.225| 5.68407475|      2.664853|    0.83631025|   1.7860185|  9|\n",
      "|  I| 1.375|   1.075|0.3625|  20.184844|    8.57572375|      4.309124|   6.3786375| 10|\n",
      "|  I| 1.225|    0.95|   0.3| 14.9968855|    6.13766675|     3.9405805|   4.3941725| 11|\n",
      "|  F|1.6375|  1.2875|   0.5|  42.354153|   20.56756225|     8.7599955|  11.4815475| 12|\n",
      "|  M|   1.6|  1.3125|  0.45|37.23706825|   13.79203175|    8.49067525| 11.55242125| 10|\n",
      "|  I|1.0625|   0.775| 0.225|  8.5331995|    3.92640575|     1.8427175|     2.26796|  7|\n",
      "|  M| 1.475|     1.1| 0.375|27.08794725|     10.375917|    6.87475375|   8.3631025| 11|\n",
      "|  I|0.7625|   0.575|0.1875| 4.12485225|    1.68679525|    0.86465975|    1.417475|  6|\n",
      "+---+------+--------+------+-----------+--------------+--------------+------------+---+\n",
      "only showing top 20 rows\n",
      "\n"
     ]
    }
   ],
   "source": [
    "# Создание SparkSession\n",
    "spark = SparkSession.builder.appName(\"CrabAgePrediction\").getOrCreate()\n",
    "# Загружаем датасет\n",
    "data = spark.read.csv(\"CrabAgePrediction.csv\", header = True, inferSchema = True)\n",
    "\n",
    "data.printSchema()\n",
    "data.show()"
   ]
  },
  {
   "cell_type": "code",
   "execution_count": 183,
   "id": "90fa70c4-5fb6-4a41-8f71-231cfd3c7f94",
   "metadata": {},
   "outputs": [
    {
     "name": "stdout",
     "output_type": "stream",
     "text": [
      "Train count: 2739\n",
      "+---+------+--------+------+----------+--------------+--------------+------------+---+\n",
      "|Sex|Length|Diameter|Height|    Weight|Shucked Weight|Viscera Weight|Shell Weight|Age|\n",
      "+---+------+--------+------+----------+--------------+--------------+------------+---+\n",
      "|  F| 0.725|   0.525|0.1875| 7.7961125|     3.2034935|    1.91359125|   0.9922325|  6|\n",
      "|  F| 0.725|  0.5625|0.1875|   3.96893|    1.45999925|    0.66621325|     1.13398|  5|\n",
      "|  F|0.7625|  0.5625| 0.175|4.20990075|    1.65844575|    0.94970825|   1.2757275|  7|\n",
      "+---+------+--------+------+----------+--------------+--------------+------------+---+\n",
      "only showing top 3 rows\n",
      "\n",
      "Test count: 1154\n",
      "+---+------+--------+------+----------+--------------+--------------+------------+---+\n",
      "|Sex|Length|Diameter|Height|    Weight|Shucked Weight|Viscera Weight|Shell Weight|Age|\n",
      "+---+------+--------+------+----------+--------------+--------------+------------+---+\n",
      "|  F|0.6875|  0.4875| 0.175|   2.26796|     0.8788345|    0.60951425|   0.7087375|  5|\n",
      "|  F|0.7625|   0.575|   0.2|  4.422522|    1.91359125|    0.97805775|    1.360776|  7|\n",
      "|  F|0.8125|    0.65| 0.225|5.42892925|     2.4097075|      1.020582|    1.757669|  7|\n",
      "+---+------+--------+------+----------+--------------+--------------+------------+---+\n",
      "only showing top 3 rows\n",
      "\n"
     ]
    }
   ],
   "source": [
    "# Преобразуем Пол краба в числа\n",
    "indexer = StringIndexer(inputCol=\"Sex\", outputCol=\"SexIndex\")\n",
    "# Преобразовываем данные. Начинаем с выбора признаков\n",
    "features = [\"SexIndex\", \"Length\", \"Diameter\" , \"Height\", \"Weight\", \"Shucked Weight\", \"Viscera Weight\", \"Shell Weight\"]\n",
    "# Создаем вектор этих признаков\n",
    "assembler = VectorAssembler(inputCols=features, outputCol=\"features\")\n",
    "# Разделяем данные на обучение и тест\n",
    "(train, test) = data.randomSplit([0.7, 0.3])\n",
    "\n",
    "# Объявляем необходимые переменные\n",
    "feature_names = test.columns\n",
    "feature_names.remove(\"Age\")\n",
    "\n",
    "tupleRMSE = ()\n",
    "Pred_arr = []\n",
    "Importance_arr = []\n",
    "\n",
    "print(\"Train count: \" + str(train.count()))\n",
    "train.show(3)\n",
    "\n",
    "print(\"Test count: \" + str(test.count()))\n",
    "test.show(3)"
   ]
  },
  {
   "cell_type": "code",
   "execution_count": 184,
   "id": "b8ce2583-1527-4290-83e6-9067e711e0ac",
   "metadata": {},
   "outputs": [
    {
     "name": "stdout",
     "output_type": "stream",
     "text": [
      "[('RandomForestRegressor', 0.027119910784811845, 0.08329306569979276, 0.07078979998147814, 0.15699721607736375, 0.15581790686810287, 0.0593149986253117, 0.04934195715846649, 0.39732514480467246)]\n"
     ]
    }
   ],
   "source": [
    "# Создаем модель\n",
    "rf = RandomForestRegressor(featuresCol = \"features\", labelCol= \"Age\")\n",
    "# Создаем конвейер\n",
    "pipelineRF = Pipeline(stages = [indexer, assembler, rf])\n",
    "# Обучение модели\n",
    "modelRF = pipelineRF.fit(train)\n",
    "# Предсказание возраста на тестовой выборке\n",
    "predictionsRF = modelRF.transform(test).withColumnRenamed(\"prediction\", \"predictionsRF\")\n",
    "Pred_arr.append(predictionsRF)\n",
    "\n",
    "# Сохранение степени влиятельности признаков\n",
    "name = \"RandomForestRegressor\"\n",
    "tup = (name, ) + tuple(list(map(lambda x: float(x), modelRF.stages[2].featureImportances)))\n",
    "Importance_arr.append(tup)\n",
    "print(Importance_arr)"
   ]
  },
  {
   "cell_type": "code",
   "execution_count": 185,
   "id": "595fc68b-e661-49b1-819b-96d3578250a8",
   "metadata": {},
   "outputs": [
    {
     "name": "stdout",
     "output_type": "stream",
     "text": [
      "Root Mean Squared Error (RMSE): 2.2617380446755893\n",
      "+---+------------------+\n",
      "|Age|     predictionsRF|\n",
      "+---+------------------+\n",
      "|  5|5.3762516618745835|\n",
      "|  7|  6.57216564001362|\n",
      "|  7| 7.751587140618805|\n",
      "|  9|  7.87059131440068|\n",
      "|  8| 8.079647366910505|\n",
      "| 10| 8.800286438150124|\n",
      "| 10|  8.65372018357122|\n",
      "|  7| 8.858643134634793|\n",
      "| 11| 8.907275261325367|\n",
      "| 10| 9.034079031576242|\n",
      "| 10| 9.685681992834322|\n",
      "|  8| 9.541083574794659|\n",
      "|  7| 9.331843450571363|\n",
      "|  7| 9.410622345746514|\n",
      "|  9| 9.431524938292133|\n",
      "| 11| 9.354394511290602|\n",
      "| 11|  9.58661408026778|\n",
      "|  9| 9.334067963163523|\n",
      "|  9| 8.952319693574477|\n",
      "| 12| 8.976752072780265|\n",
      "+---+------------------+\n",
      "only showing top 20 rows\n",
      "\n"
     ]
    }
   ],
   "source": [
    "# Оценка модели\n",
    "evaluator = RegressionEvaluator(labelCol = \"Age\", predictionCol = \"predictionsRF\", metricName = \"rmse\")\n",
    "rmseRF = evaluator.evaluate(predictionsRF)\n",
    "tupleRMSE += (rmseRF,)\n",
    "print(\"Root Mean Squared Error (RMSE): %s\" % rmseRF)\n",
    "# Вывод результата и выключение SparkSession\n",
    "predictionsRF.select(\"Age\", \"predictionsRF\").show()"
   ]
  },
  {
   "cell_type": "code",
   "execution_count": 186,
   "id": "bb493e00-3593-4b2c-989a-cdf76e94e398",
   "metadata": {},
   "outputs": [
    {
     "name": "stdout",
     "output_type": "stream",
     "text": [
      "[('RandomForestRegressor', 0.027119910784811845, 0.08329306569979276, 0.07078979998147814, 0.15699721607736375, 0.15581790686810287, 0.0593149986253117, 0.04934195715846649, 0.39732514480467246), ('GBTRegressor', 0.03844092535145324, 0.08420753666699873, 0.0874690012714675, 0.09498669333940496, 0.12022822146921452, 0.17856449911902147, 0.06304816219232512, 0.3330549605901143)]\n"
     ]
    }
   ],
   "source": [
    "# Создание модели градиентного бустинга\n",
    "gbt = GBTRegressor(featuresCol=\"features\", labelCol= \"Age\")\n",
    "# Создание конвейера\n",
    "pipelineGBT = Pipeline(stages = [indexer, assembler, gbt])\n",
    "# Обучение модели\n",
    "modelGBT = pipelineGBT.fit(train)\n",
    "# Предсказание возраста на тестовой выборке\n",
    "predictionsGBT = modelGBT.transform(test).withColumnRenamed(\"prediction\", \"predictionsGBT\")\n",
    "Pred_arr.append(predictionsGBT)\n",
    "\n",
    "# Сохранение степени влиятельности признаков\n",
    "name = \"GBTRegressor\"\n",
    "tup = (name, ) + tuple(list(map(lambda x: float(x), modelGBT.stages[2].featureImportances)))\n",
    "Importance_arr.append(tup)\n",
    "print(Importance_arr)"
   ]
  },
  {
   "cell_type": "code",
   "execution_count": 187,
   "id": "2e96de5b-957c-43bd-a0dc-7d2c217905a3",
   "metadata": {},
   "outputs": [
    {
     "name": "stdout",
     "output_type": "stream",
     "text": [
      "Root Mean Squared Error (RMSE): 2.297819877047723\n",
      "+---+------------------+\n",
      "|Age|    predictionsGBT|\n",
      "+---+------------------+\n",
      "|  5|5.5596744527167825|\n",
      "|  7| 6.022912461137717|\n",
      "|  7| 9.078273622627519|\n",
      "|  9| 9.371252994015094|\n",
      "|  8| 8.957174704980082|\n",
      "| 10| 9.124165569735737|\n",
      "| 10| 9.146131552874726|\n",
      "|  7| 6.781412787206129|\n",
      "| 11| 8.989029562898878|\n",
      "| 10|  9.03371312734529|\n",
      "| 10|10.734413408110344|\n",
      "|  8| 9.779648295660518|\n",
      "|  7| 9.419386374219382|\n",
      "|  7|  9.12331393501033|\n",
      "|  9|10.750482352650199|\n",
      "| 11| 9.419386374219382|\n",
      "| 11|10.806102904806979|\n",
      "|  9| 8.823128895711541|\n",
      "|  9| 8.952028406968632|\n",
      "| 12|  9.12331393501033|\n",
      "+---+------------------+\n",
      "only showing top 20 rows\n",
      "\n"
     ]
    }
   ],
   "source": [
    "# Оценка модели\n",
    "evaluator = RegressionEvaluator(labelCol = \"Age\", predictionCol = \"predictionsGBT\", metricName = \"rmse\")\n",
    "rmseGBT = evaluator.evaluate(predictionsGBT)\n",
    "tupleRMSE += (rmseGBT,)\n",
    "print(\"Root Mean Squared Error (RMSE): %s\" % rmseGBT)\n",
    "# Вывод результата и выключение SparkSession\n",
    "predictionsGBT.select(\"Age\", \"predictionsGBT\").show()"
   ]
  },
  {
   "cell_type": "code",
   "execution_count": 188,
   "id": "98ed5f72-8cfa-4239-a076-954890ba25a2",
   "metadata": {},
   "outputs": [],
   "source": [
    "# Создание модели линейной регрессии\n",
    "lr = LinearRegression(featuresCol=\"features\", labelCol=\"Age\", maxIter=10, regParam=0.3, elasticNetParam=0.8) \n",
    "# Создание конвейера\n",
    "pipelineLR = Pipeline(stages = [indexer, assembler, lr])\n",
    "# Fit the model\n",
    "modelLR = pipelineLR.fit(train)\n",
    "# Предсказание возраста на тестовой выборке\n",
    "predictionsLR = modelLR.transform(test).withColumnRenamed(\"prediction\", \"predictionsLR\")\n",
    "Pred_arr.append(predictionsLR)"
   ]
  },
  {
   "cell_type": "code",
   "execution_count": 189,
   "id": "fdcab750-aeb4-481a-a91a-b433ca881ffd",
   "metadata": {},
   "outputs": [
    {
     "name": "stdout",
     "output_type": "stream",
     "text": [
      "Root Mean Squared Error (RMSE): 2.441501947834654\n",
      "+---+-----------------+\n",
      "|Age|    predictionsLR|\n",
      "+---+-----------------+\n",
      "|  5| 7.29276625844087|\n",
      "|  7|7.603766781483595|\n",
      "|  7|7.822837038897525|\n",
      "|  9|7.846368333406389|\n",
      "|  8|8.065440914967235|\n",
      "| 10|8.243173199089549|\n",
      "| 10|8.155664791058577|\n",
      "|  7| 9.00235075848028|\n",
      "| 11|8.385287477352524|\n",
      "| 10|8.304226056405955|\n",
      "| 10|8.678192290300956|\n",
      "|  8|8.737224666424618|\n",
      "|  7|8.822418913657469|\n",
      "|  7|8.893622892591646|\n",
      "|  9|8.748295326811427|\n",
      "| 11|8.718922492331908|\n",
      "| 11|8.919988903552337|\n",
      "|  9|8.593403998624186|\n",
      "|  9|8.490600240019331|\n",
      "| 12|8.795763871385237|\n",
      "+---+-----------------+\n",
      "only showing top 20 rows\n",
      "\n"
     ]
    }
   ],
   "source": [
    "# Оценка модели\n",
    "evaluator = RegressionEvaluator(labelCol = \"Age\", predictionCol = \"predictionsLR\", metricName = \"rmse\")\n",
    "rmseLR = evaluator.evaluate(predictionsLR)\n",
    "tupleRMSE += (rmseLR,)\n",
    "print(\"Root Mean Squared Error (RMSE): %s\" % rmseLR)\n",
    "# Вывод результата и выключение SparkSession\n",
    "predictionsLR.select(\"Age\", \"predictionsLR\").show()"
   ]
  },
  {
   "cell_type": "code",
   "execution_count": 190,
   "id": "1e3503eb-cc60-4f5d-82ea-5c74bc213bc2",
   "metadata": {},
   "outputs": [
    {
     "name": "stdout",
     "output_type": "stream",
     "text": [
      "[('RandomForestRegressor', 0.027119910784811845, 0.08329306569979276, 0.07078979998147814, 0.15699721607736375, 0.15581790686810287, 0.0593149986253117, 0.04934195715846649, 0.39732514480467246), ('GBTRegressor', 0.03844092535145324, 0.08420753666699873, 0.0874690012714675, 0.09498669333940496, 0.12022822146921452, 0.17856449911902147, 0.06304816219232512, 0.3330549605901143), ('DecisionTreeRegressor', 0.03415995798991525, 0.00221460423545631, 0.007546978713055943, 0.009024617075236913, 0.0, 0.1385979769941694, 6.739740738945022e-05, 0.8083884675847767)]\n"
     ]
    }
   ],
   "source": [
    "# Создание модели решающих деервьев\n",
    "dt = DecisionTreeRegressor(featuresCol=\"features\", labelCol=\"Age\")\n",
    "# Создание конвейера\n",
    "pipelineDT = Pipeline(stages = [indexer, assembler, dt])\n",
    "# Fit the model\n",
    "modelDT = pipelineDT.fit(train)\n",
    "# Предсказание возраста на тестовой выборке\n",
    "predictionsDT = modelDT.transform(test).withColumnRenamed(\"prediction\", \"predictionsDT\")\n",
    "Pred_arr.append(predictionsDT)\n",
    "\n",
    "# Сохранение степени влиятельности признаков\n",
    "name = \"DecisionTreeRegressor\"\n",
    "tup = (name, ) + tuple(list(map(lambda x: float(x), modelDT.stages[2].featureImportances)))\n",
    "Importance_arr.append(tup)\n",
    "print(Importance_arr)"
   ]
  },
  {
   "cell_type": "code",
   "execution_count": 191,
   "id": "15202ee5-c9d1-4a4b-bb2c-a0ca76e12f71",
   "metadata": {},
   "outputs": [
    {
     "name": "stdout",
     "output_type": "stream",
     "text": [
      "Root Mean Squared Error (RMSE): 2.3152853226399177\n",
      "+---+------------------+\n",
      "|Age|     predictionsDT|\n",
      "+---+------------------+\n",
      "|  5|               5.5|\n",
      "|  7| 5.884057971014493|\n",
      "|  7| 9.087719298245615|\n",
      "|  9| 9.087719298245615|\n",
      "|  8| 9.087719298245615|\n",
      "| 10| 9.087719298245615|\n",
      "| 10| 9.087719298245615|\n",
      "|  7|              7.96|\n",
      "| 11| 9.087719298245615|\n",
      "| 10| 9.087719298245615|\n",
      "| 10|10.402985074626866|\n",
      "|  8| 9.087719298245615|\n",
      "|  7| 9.087719298245615|\n",
      "|  7| 9.087719298245615|\n",
      "|  9|10.402985074626866|\n",
      "| 11| 9.087719298245615|\n",
      "| 11|10.402985074626866|\n",
      "|  9|10.402985074626866|\n",
      "|  9| 9.087719298245615|\n",
      "| 12| 9.087719298245615|\n",
      "+---+------------------+\n",
      "only showing top 20 rows\n",
      "\n"
     ]
    }
   ],
   "source": [
    "# Оценка модели\n",
    "evaluator = RegressionEvaluator(labelCol = \"Age\", predictionCol = \"predictionsDT\", metricName = \"rmse\")\n",
    "rmseDT = evaluator.evaluate(predictionsDT)\n",
    "tupleRMSE += (rmseDT,)\n",
    "print(\"Root Mean Squared Error (RMSE): %s\" % rmseDT)\n",
    "# Вывод результата и выключение SparkSession\n",
    "predictionsDT.select(\"Age\", \"predictionsDT\").show()"
   ]
  },
  {
   "cell_type": "code",
   "execution_count": 192,
   "id": "2452bde3-dbe8-4d69-ade3-3436d83e7d7e",
   "metadata": {},
   "outputs": [],
   "source": [
    "# Создание модели изотонической регрессии\n",
    "ir = IsotonicRegression(featuresCol=\"features\", labelCol=\"Age\")\n",
    "# Создание конвейера\n",
    "pipelineIR = Pipeline(stages = [indexer, assembler, ir])\n",
    "# Fit the model\n",
    "modelIR = pipelineIR.fit(train)\n",
    "# Предсказание возраста на тестовой выборке\n",
    "predictionsIR = modelIR.transform(test).withColumnRenamed(\"prediction\", \"predictionsIR\")\n",
    "Pred_arr.append(predictionsIR)"
   ]
  },
  {
   "cell_type": "code",
   "execution_count": 193,
   "id": "752bd8f9-d795-4a7c-a3fd-3faf6e692e1e",
   "metadata": {},
   "outputs": [
    {
     "name": "stdout",
     "output_type": "stream",
     "text": [
      "Root Mean Squared Error (RMSE): 3.8313767338800853\n",
      "+---+------------------+\n",
      "|Age|     predictionsIR|\n",
      "+---+------------------+\n",
      "|  5|10.177153920619554|\n",
      "|  7|10.177153920619554|\n",
      "|  7|10.177153920619554|\n",
      "|  9|10.177153920619554|\n",
      "|  8|10.177153920619554|\n",
      "| 10|10.177153920619554|\n",
      "| 10|10.177153920619554|\n",
      "|  7|10.177153920619554|\n",
      "| 11|10.177153920619554|\n",
      "| 10|10.177153920619554|\n",
      "| 10|10.177153920619554|\n",
      "|  8|10.177153920619554|\n",
      "|  7|10.177153920619554|\n",
      "|  7|10.177153920619554|\n",
      "|  9|10.177153920619554|\n",
      "| 11|10.177153920619554|\n",
      "| 11|10.177153920619554|\n",
      "|  9|10.177153920619554|\n",
      "|  9|10.177153920619554|\n",
      "| 12|10.177153920619554|\n",
      "+---+------------------+\n",
      "only showing top 20 rows\n",
      "\n"
     ]
    }
   ],
   "source": [
    "# Оценка модели\n",
    "evaluator = RegressionEvaluator(labelCol = \"Age\", predictionCol = \"predictionsIR\", metricName = \"rmse\")\n",
    "rmseIR = evaluator.evaluate(predictionsIR)\n",
    "tupleRMSE += (rmseIR,)\n",
    "print(\"Root Mean Squared Error (RMSE): %s\" % rmseIR)\n",
    "# Вывод результата и выключение SparkSession\n",
    "predictionsIR.select(\"Age\", \"predictionsIR\").show()"
   ]
  },
  {
   "cell_type": "code",
   "execution_count": 194,
   "id": "d4e46aa3-eec6-4304-9a7e-b41d196e5263",
   "metadata": {},
   "outputs": [],
   "source": [
    "# Создание модели FMRegressor\n",
    "fm = FMRegressor(featuresCol=\"features\", labelCol=\"Age\", predictionCol=\"prediction\",stepSize=0.001)\n",
    "# Создание конвейера\n",
    "pipelineFM = Pipeline(stages = [indexer, assembler, fm])\n",
    "# Fit the model\n",
    "modelFM = pipelineFM.fit(train)\n",
    "# Предсказание возраста на тестовой выборке\n",
    "predictionsFM = modelFM.transform(test).withColumnRenamed(\"prediction\", \"predictionsFM\")\n",
    "Pred_arr.append(predictionsFM)"
   ]
  },
  {
   "cell_type": "code",
   "execution_count": 195,
   "id": "234e2445-4e37-4db5-86f0-4ac4656b7402",
   "metadata": {},
   "outputs": [
    {
     "name": "stdout",
     "output_type": "stream",
     "text": [
      "Root Mean Squared Error (RMSE): 5.102875633263086\n",
      "+---+------------------+\n",
      "|Age|     predictionsFM|\n",
      "+---+------------------+\n",
      "|  5|0.6684091401699361|\n",
      "|  7|1.0686951841741683|\n",
      "|  7|1.2842983531497907|\n",
      "|  9| 1.320192774126975|\n",
      "|  8|1.4606669908620329|\n",
      "| 10|1.7823101604691705|\n",
      "| 10|1.6913423062896555|\n",
      "|  7|4.3647012296127015|\n",
      "| 11| 2.381788143704353|\n",
      "| 10| 2.079483997915977|\n",
      "| 10|2.5115753001418737|\n",
      "|  8|2.7104887058823754|\n",
      "|  7|2.7340487377828873|\n",
      "|  7| 3.003722709507238|\n",
      "|  9|2.6749109187007267|\n",
      "| 11|2.7861029359282217|\n",
      "| 11| 3.127531259045429|\n",
      "|  9|2.9305381354260325|\n",
      "|  9| 2.804319857024282|\n",
      "| 12|3.2994431689393093|\n",
      "+---+------------------+\n",
      "only showing top 20 rows\n",
      "\n"
     ]
    }
   ],
   "source": [
    "# Оценка модели\n",
    "evaluator = RegressionEvaluator(labelCol = \"Age\", predictionCol = \"predictionsFM\", metricName = \"rmse\")\n",
    "rmseFM = evaluator.evaluate(predictionsFM)\n",
    "tupleRMSE += (rmseFM,)\n",
    "print(\"Root Mean Squared Error (RMSE): %s\" % rmseFM)\n",
    "# Вывод результата и выключение SparkSession\n",
    "predictionsFM.select(\"Age\", \"predictionsFM\").show()"
   ]
  },
  {
   "cell_type": "code",
   "execution_count": 196,
   "id": "d5d86962-d438-4d88-a41e-a5ce891f90bf",
   "metadata": {},
   "outputs": [],
   "source": [
    "# Модель  `AFTSurvivalRegression`  не подходит для датасета  `CrabAgePrediction`, так как нет информации о том,  \n",
    "# живы ли были крабы, когда их поймали.\n",
    "\n",
    "# Эта модель предназначена для анализа данных выживания, где есть данные о времени до события (в данном случае, смерть) \n",
    "# и информация о том,  было ли это событие наблюдено (краб умер) или  **цензурировано**  (краб был жив, когда его поймали).  "
   ]
  },
  {
   "cell_type": "code",
   "execution_count": 197,
   "id": "ed06ed51-e45b-434e-9dc8-406023416bef",
   "metadata": {},
   "outputs": [],
   "source": [
    "glr = GeneralizedLinearRegression(featuresCol=\"features\", labelCol=\"Age\", family=\"gaussian\", link=\"identity\", maxIter=10, regParam=0.3)\n",
    "# Создание конвейера\n",
    "pipelineGLR = Pipeline(stages = [indexer, assembler, glr])\n",
    "# Fit the model\n",
    "modelGLR = pipelineGLR.fit(train)\n",
    "# Предсказание возраста на тестовой выборке\n",
    "predictionsGLR = modelGLR.transform(test).withColumnRenamed(\"prediction\", \"predictionsGLR\")\n",
    "Pred_arr.append(predictionsGLR)"
   ]
  },
  {
   "cell_type": "code",
   "execution_count": 198,
   "id": "d74f2b28-c31a-408a-970d-4a92f7a5f15a",
   "metadata": {},
   "outputs": [
    {
     "name": "stdout",
     "output_type": "stream",
     "text": [
      "Root Mean Squared Error (RMSE): 2.243629380674696\n",
      "+---+-----------------+\n",
      "|Age|   predictionsGLR|\n",
      "+---+-----------------+\n",
      "|  5|6.654106716435999|\n",
      "|  7|7.110659191324778|\n",
      "|  7|7.520945693707615|\n",
      "|  9|7.653423681610279|\n",
      "|  8|8.028030558921165|\n",
      "| 10|8.358074962723453|\n",
      "| 10|8.200605567695213|\n",
      "|  7| 8.08108056898484|\n",
      "| 11|8.171090535879504|\n",
      "| 10|8.446610511580783|\n",
      "| 10|8.974842535705207|\n",
      "|  8|8.886981722080945|\n",
      "|  7| 9.09171617368003|\n",
      "|  7|8.953629963939004|\n",
      "|  9|9.028107273651347|\n",
      "| 11|9.046218912801681|\n",
      "| 11|9.167057997508405|\n",
      "|  9|8.685971737316043|\n",
      "|  9| 8.48363454055028|\n",
      "| 12|8.922531106070661|\n",
      "+---+-----------------+\n",
      "only showing top 20 rows\n",
      "\n"
     ]
    }
   ],
   "source": [
    "# Оценка модели\n",
    "evaluator = RegressionEvaluator(labelCol = \"Age\", predictionCol = \"predictionsGLR\", metricName = \"rmse\")\n",
    "rmseGLR = evaluator.evaluate(predictionsGLR)\n",
    "tupleRMSE += (rmseGLR,)\n",
    "print(\"Root Mean Squared Error (RMSE): %s\" % rmseGLR)\n",
    "# Вывод результата и выключение SparkSession\n",
    "predictionsGLR.select(\"Age\", \"predictionsGLR\").show()"
   ]
  },
  {
   "cell_type": "code",
   "execution_count": 199,
   "id": "58dac84c-b333-41f3-8fe3-ca303dc2f391",
   "metadata": {},
   "outputs": [],
   "source": [
    "# Создаем списки моделей, выполняющихся том же в порядке выше\n",
    "modelsList = [\"RandomForestRegressor\", \"GBTRegressor\", \"LinearRegression\", \"DecisionTreeRegressor\", \n",
    "              \"IsotonicRegression\", \"FMRegressor\", \"GeneralizedLinearRegression\"]\n",
    "shortModelsList = [\"predictionsRF\", \"predictionsGBT\", \"predictionsLR\", \"predictionsDT\", \"predictionsIR\", \n",
    "                   \"predictionsFM\", \"predictionsGLR\"]\n",
    "\n",
    "# Схема нового DataFrame значений RMSE каждой модели\n",
    "schemaRMSE = StructType([\n",
    "    StructField(modelsList[0], DoubleType(), True),\n",
    "    StructField(modelsList[1], DoubleType(), True),\n",
    "    StructField(modelsList[2], DoubleType(), True),\n",
    "    StructField(modelsList[3], DoubleType(), True),\n",
    "    StructField(modelsList[4], DoubleType(), True),\n",
    "    StructField(modelsList[5], DoubleType(), True),\n",
    "    StructField(modelsList[6], DoubleType(), True)\n",
    "])\n",
    "# Создание DataFrame\n",
    "rmseDF = spark.createDataFrame([tupleRMSE], schemaRMSE)"
   ]
  },
  {
   "cell_type": "code",
   "execution_count": 200,
   "id": "3601697c-fb28-4d27-bfdc-2e17f9abed20",
   "metadata": {},
   "outputs": [
    {
     "name": "stdout",
     "output_type": "stream",
     "text": [
      "root\n",
      " |-- Model_name: string (nullable = true)\n",
      " |-- Sex: double (nullable = true)\n",
      " |-- Length: double (nullable = true)\n",
      " |-- Diameter: double (nullable = true)\n",
      " |-- Height: double (nullable = true)\n",
      " |-- Weight: double (nullable = true)\n",
      " |-- Shucked Weight: double (nullable = true)\n",
      " |-- Viscera Weight: double (nullable = true)\n",
      " |-- Shell Weight: double (nullable = true)\n",
      "\n"
     ]
    }
   ],
   "source": [
    "types = [StructField(\"Model_name\", StringType(), True)]\n",
    "\n",
    "for i in feature_names:\n",
    "    types.append(StructField(i, DoubleType(), True))\n",
    "\n",
    "schema_imp = StructType(types)\n",
    "impDF = spark.createDataFrame(Importance_arr, schema_imp)\n",
    "impDF.printSchema()"
   ]
  },
  {
   "cell_type": "code",
   "execution_count": 201,
   "id": "3cd31032-9ce0-4a45-bf4c-82976f9574b6",
   "metadata": {},
   "outputs": [],
   "source": [
    "for i, df in enumerate(Pred_arr):\n",
    "    df = df.withColumn(\"id\", monotonically_increasing_id())\n",
    "    Pred_arr[i] = df\n",
    "\n",
    "ListSelectedDF = [df.select(\"Age\", \"id\", shortModelsList[i]) for i, df in enumerate(Pred_arr)]\n",
    "predDF = ListSelectedDF[0]\n",
    "\n",
    "for i in range(1, len(ListSelectedDF)):\n",
    "    predDF = predDF.join(ListSelectedDF[i], on = [\"Age\", \"id\"], how = \"inner\")\n",
    "\n",
    "predDF = predDF.drop(\"id\")"
   ]
  },
  {
   "cell_type": "code",
   "execution_count": 202,
   "id": "d31b729a-4e62-42d7-8774-dde6d0cff9e1",
   "metadata": {},
   "outputs": [
    {
     "name": "stderr",
     "output_type": "stream",
     "text": [
      "                                                                                \r"
     ]
    },
    {
     "name": "stdout",
     "output_type": "stream",
     "text": [
      "Лучшая модель: GeneralizedLinearRegression (RMSE: 2.243629380674696)\n"
     ]
    }
   ],
   "source": [
    "# Вывод лучшего результата\n",
    "print(f\"Лучшая модель: {modelsList[rmseDF.head().index(min(rmseDF.head()))]} (RMSE: {min(rmseDF.head())})\")\n",
    "# Запись результатов в json-файл\n",
    "rmseDF.coalesce(1).write.json(\"RMSE.json\", mode = 'overwrite')\n",
    "predDF.write.json(\"Pred.json\", mode = 'overwrite')\n",
    "impDF.coalesce(1).write.json(\"Importance.json\", mode = 'overwrite')"
   ]
  },
  {
   "cell_type": "code",
   "execution_count": 203,
   "id": "ab0a7032-5d8c-4617-af04-e4c21b324306",
   "metadata": {},
   "outputs": [],
   "source": [
    "spark.stop()"
   ]
  },
  {
   "cell_type": "code",
   "execution_count": null,
   "id": "07ef52be-660c-4e8e-84ce-5878d0db3d3e",
   "metadata": {},
   "outputs": [],
   "source": []
  }
 ],
 "metadata": {
  "kernelspec": {
   "display_name": "Python 3 (ipykernel)",
   "language": "python",
   "name": "python3"
  },
  "language_info": {
   "codemirror_mode": {
    "name": "ipython",
    "version": 3
   },
   "file_extension": ".py",
   "mimetype": "text/x-python",
   "name": "python",
   "nbconvert_exporter": "python",
   "pygments_lexer": "ipython3",
   "version": "3.10.12"
  }
 },
 "nbformat": 4,
 "nbformat_minor": 5
}
