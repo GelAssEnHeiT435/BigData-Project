{
 "cells": [
  {
   "cell_type": "code",
   "execution_count": 27,
   "id": "7153b922-5a92-49be-aa4b-b39f010be095",
   "metadata": {},
   "outputs": [],
   "source": [
    "from pyspark.sql.types import StructType, StructField, StringType, IntegerType, DoubleType\n",
    "from pyspark.sql.functions import monotonically_increasing_id, format_number\n",
    "from pyspark.ml.feature import VectorAssembler, StringIndexer\n",
    "from pyspark.ml.regression import GeneralizedLinearRegression\n",
    "from pyspark.ml.regression import RandomForestRegressor\n",
    "from pyspark.ml.regression import DecisionTreeRegressor\n",
    "from pyspark.ml.evaluation import RegressionEvaluator\n",
    "from pyspark.ml.regression import IsotonicRegression\n",
    "from pyspark.ml.regression import LinearRegression\n",
    "from pyspark.ml.regression import GBTRegressor\n",
    "from pyspark.ml.regression import FMRegressor\n",
    "from pyspark.sql import SparkSession, Row\n",
    "from pyspark.sql.functions import col\n",
    "from pyspark.ml import Pipeline\n",
    "import numpy as np"
   ]
  },
  {
   "cell_type": "code",
   "execution_count": 28,
   "id": "c4de6089-0596-491c-b979-31fd3e21a408",
   "metadata": {},
   "outputs": [
    {
     "name": "stdout",
     "output_type": "stream",
     "text": [
      "root\n",
      " |-- Sex: string (nullable = true)\n",
      " |-- Length: double (nullable = true)\n",
      " |-- Diameter: double (nullable = true)\n",
      " |-- Height: double (nullable = true)\n",
      " |-- Weight: double (nullable = true)\n",
      " |-- Shucked Weight: double (nullable = true)\n",
      " |-- Viscera Weight: double (nullable = true)\n",
      " |-- Shell Weight: double (nullable = true)\n",
      " |-- Age: integer (nullable = true)\n",
      "\n",
      "+---+------+--------+------+-----------+--------------+--------------+------------+---+\n",
      "|Sex|Length|Diameter|Height|     Weight|Shucked Weight|Viscera Weight|Shell Weight|Age|\n",
      "+---+------+--------+------+-----------+--------------+--------------+------------+---+\n",
      "|  F|1.4375|   1.175|0.4125| 24.6357155|    12.3320325|     5.5848515|    6.747181|  9|\n",
      "|  M|0.8875|    0.65|0.2125| 5.40057975|     2.2963095|    1.37495075|   1.5592225|  6|\n",
      "|  I|1.0375|   0.775|  0.25| 7.95203475|      3.231843|    1.60174675|  2.76407625|  6|\n",
      "|  F| 1.175|  0.8875|  0.25|13.48018725|    4.74854125|    2.28213475|   5.2446575| 10|\n",
      "|  I|0.8875|  0.6625|0.2125| 6.90310325|      3.458639|    1.48834875|     1.70097|  6|\n",
      "|  F|  1.55|  1.1625|  0.35| 28.6613445|    13.5794105|    6.76135575|   7.2291225|  8|\n",
      "|  F|   1.3|     1.0| 0.325|17.70426275|     6.0951425|    5.85417175|    4.819415| 15|\n",
      "|  M| 1.325|  1.0125| 0.375|23.57260925|      9.979024|     5.3013565|  7.15824875| 10|\n",
      "|  I|1.5875|    1.25|0.4125| 42.2124055|    20.2698925|    9.76640275| 10.24834425| 13|\n",
      "|  I|0.9125|  0.6875|0.3375|    6.80388|      3.061746|    1.26155275|  2.08368825|  7|\n",
      "|  M| 0.825|  0.5375|0.1875| 3.24601775|     1.2757275|    0.75126175|   0.9922325|  6|\n",
      "|  F|1.3625|    1.05|0.4375|  21.375523|      7.257472|    5.03203625|   7.7961125| 10|\n",
      "|  M|0.8625|  0.6375| 0.225| 5.68407475|      2.664853|    0.83631025|   1.7860185|  9|\n",
      "|  I| 1.375|   1.075|0.3625|  20.184844|    8.57572375|      4.309124|   6.3786375| 10|\n",
      "|  I| 1.225|    0.95|   0.3| 14.9968855|    6.13766675|     3.9405805|   4.3941725| 11|\n",
      "|  F|1.6375|  1.2875|   0.5|  42.354153|   20.56756225|     8.7599955|  11.4815475| 12|\n",
      "|  M|   1.6|  1.3125|  0.45|37.23706825|   13.79203175|    8.49067525| 11.55242125| 10|\n",
      "|  I|1.0625|   0.775| 0.225|  8.5331995|    3.92640575|     1.8427175|     2.26796|  7|\n",
      "|  M| 1.475|     1.1| 0.375|27.08794725|     10.375917|    6.87475375|   8.3631025| 11|\n",
      "|  I|0.7625|   0.575|0.1875| 4.12485225|    1.68679525|    0.86465975|    1.417475|  6|\n",
      "+---+------+--------+------+-----------+--------------+--------------+------------+---+\n",
      "only showing top 20 rows\n",
      "\n"
     ]
    }
   ],
   "source": [
    "# Создание SparkSession\n",
    "spark = SparkSession.builder.appName(\"CrabAgePrediction\").getOrCreate()\n",
    "# Загружаем датасет\n",
    "data = spark.read.csv(\"CrabAgePrediction.csv\", header = True, inferSchema = True)\n",
    "\n",
    "data.printSchema()\n",
    "data.show()"
   ]
  },
  {
   "cell_type": "code",
   "execution_count": 29,
   "id": "90fa70c4-5fb6-4a41-8f71-231cfd3c7f94",
   "metadata": {},
   "outputs": [
    {
     "name": "stdout",
     "output_type": "stream",
     "text": [
      "Train count: 2700\n",
      "+---+------+--------+------+---------+--------------+--------------+------------+---+\n",
      "|Sex|Length|Diameter|Height|   Weight|Shucked Weight|Viscera Weight|Shell Weight|Age|\n",
      "+---+------+--------+------+---------+--------------+--------------+------------+---+\n",
      "|  F|0.6875|  0.4875| 0.175|  2.26796|     0.8788345|    0.60951425|   0.7087375|  5|\n",
      "|  F| 0.725|   0.525|0.1875|7.7961125|     3.2034935|    1.91359125|   0.9922325|  6|\n",
      "|  F| 0.725|  0.5625|0.1875|  3.96893|    1.45999925|    0.66621325|     1.13398|  5|\n",
      "+---+------+--------+------+---------+--------------+--------------+------------+---+\n",
      "only showing top 3 rows\n",
      "\n",
      "Test count: 1193\n",
      "+---+------+--------+------+----------+--------------+--------------+------------+---+\n",
      "|Sex|Length|Diameter|Height|    Weight|Shucked Weight|Viscera Weight|Shell Weight|Age|\n",
      "+---+------+--------+------+----------+--------------+--------------+------------+---+\n",
      "|  F|0.8375|    0.55| 0.175|  4.819415|      2.154562|    1.03475675|    1.417475|  6|\n",
      "|  F|0.8625|  0.6375|  0.25| 5.5848515|     2.0128145|     1.4458245|     1.70097|  9|\n",
      "|  F| 0.875|  0.6625| 0.225|5.25883225|    2.11203775|    1.17650425|     1.70097|  7|\n",
      "+---+------+--------+------+----------+--------------+--------------+------------+---+\n",
      "only showing top 3 rows\n",
      "\n"
     ]
    }
   ],
   "source": [
    "# Преобразуем Пол краба в числа\n",
    "indexer = StringIndexer(inputCol=\"Sex\", outputCol=\"SexIndex\")\n",
    "# Преобразовываем данные. Начинаем с выбора признаков\n",
    "features = [\"SexIndex\", \"Length\", \"Diameter\" , \"Height\", \"Weight\", \"Shucked Weight\", \"Viscera Weight\", \"Shell Weight\"]\n",
    "# Создаем вектор этих признаков\n",
    "assembler = VectorAssembler(inputCols=features, outputCol=\"features\")\n",
    "# Разделяем данные на обучение и тест\n",
    "(train, test) = data.randomSplit([0.7, 0.3])\n",
    "\n",
    "# Объявляем необходимые переменные\n",
    "feature_names = test.columns\n",
    "feature_names.remove(\"Age\")\n",
    "\n",
    "# Списки для формирования структурированных данных\n",
    "tupleRMSE = () # список среднекватратичных ошибок\n",
    "Pred_arr = [] # список предсказанных значений\n",
    "Importance_arr = [] # список признаков, оказывающих наибольшее влияние на предсказание\n",
    "\n",
    "print(\"Train count: \" + str(train.count()))\n",
    "train.show(3)\n",
    "\n",
    "print(\"Test count: \" + str(test.count()))\n",
    "test.show(3)"
   ]
  },
  {
   "cell_type": "code",
   "execution_count": 30,
   "id": "b8ce2583-1527-4290-83e6-9067e711e0ac",
   "metadata": {},
   "outputs": [
    {
     "name": "stdout",
     "output_type": "stream",
     "text": [
      "[('RandomForestRegressor', 0.0285508694699434, 0.07806980473025281, 0.12269589066877688, 0.11721170686876277, 0.11111794711151542, 0.07203870266259102, 0.07159258239894649, 0.3987224960892113)]\n"
     ]
    }
   ],
   "source": [
    "# Создаем модель\n",
    "rf = RandomForestRegressor(featuresCol = \"features\", labelCol= \"Age\")\n",
    "# Создаем конвейер\n",
    "pipelineRF = Pipeline(stages = [indexer, assembler, rf])\n",
    "# Обучение модели\n",
    "modelRF = pipelineRF.fit(train)\n",
    "# Предсказание возраста на тестовой выборке\n",
    "predictionsRF = modelRF.transform(test).withColumnRenamed(\"prediction\", \"predictionsRF\")\n",
    "Pred_arr.append(predictionsRF)\n",
    "\n",
    "# Сохранение степени влиятельности признаков\n",
    "name = \"RandomForestRegressor\"\n",
    "tup = (name, ) + tuple(list(map(lambda x: float(x), modelRF.stages[2].featureImportances)))\n",
    "Importance_arr.append(tup)\n",
    "print(Importance_arr)"
   ]
  },
  {
   "cell_type": "code",
   "execution_count": 31,
   "id": "595fc68b-e661-49b1-819b-96d3578250a8",
   "metadata": {},
   "outputs": [
    {
     "name": "stdout",
     "output_type": "stream",
     "text": [
      "Root Mean Squared Error (RMSE): 2.4055859200639436\n",
      "Mean Absolute Error (MAE): 1.6750731467058526\n",
      "+---+------------------+\n",
      "|Age|     predictionsRF|\n",
      "+---+------------------+\n",
      "|  6| 7.241722028037499|\n",
      "|  9| 7.839193129573229|\n",
      "|  7| 7.538035960551551|\n",
      "| 10| 7.644000578915727|\n",
      "| 10|  8.22488891516051|\n",
      "|  7|  8.58325901299813|\n",
      "|  7| 8.169813220672534|\n",
      "|  7| 9.099672171674749|\n",
      "| 10| 8.965887203128904|\n",
      "|  8| 8.501455029513455|\n",
      "|  6|  8.74839500221802|\n",
      "|  7|  9.13245205610956|\n",
      "| 10|  8.94374136901161|\n",
      "| 16| 9.269620211251105|\n",
      "|  8| 9.232710814071345|\n",
      "|  8| 8.984100407757913|\n",
      "| 10| 9.133551594134392|\n",
      "| 10| 9.669460585597665|\n",
      "| 10| 9.442590537897093|\n",
      "| 12|10.140361039849179|\n",
      "+---+------------------+\n",
      "only showing top 20 rows\n",
      "\n"
     ]
    }
   ],
   "source": [
    "# Оценка модели\n",
    "evaluator = RegressionEvaluator(labelCol = \"Age\", predictionCol = \"predictionsRF\", metricName = \"rmse\")\n",
    "rmseRF = evaluator.evaluate(predictionsRF)\n",
    "\n",
    "evaluator = RegressionEvaluator(labelCol = \"Age\", predictionCol = \"predictionsRF\", metricName = \"mae\")\n",
    "maeRF = evaluator.evaluate(predictionsRF)\n",
    "\n",
    "tupleRMSE += (rmseRF,)\n",
    "\n",
    "print(\"Root Mean Squared Error (RMSE): %s\" % rmseRF)\n",
    "print(\"Mean Absolute Error (MAE): %s\" % maeRF)\n",
    "\n",
    "# Вывод результата и выключение SparkSession\n",
    "predictionsRF.select(\"Age\", \"predictionsRF\").show()"
   ]
  },
  {
   "cell_type": "code",
   "execution_count": 32,
   "id": "bb493e00-3593-4b2c-989a-cdf76e94e398",
   "metadata": {},
   "outputs": [],
   "source": [
    "# Создание модели градиентного бустинга\n",
    "gbt = GBTRegressor(featuresCol=\"features\", labelCol= \"Age\")\n",
    "# Создание конвейера\n",
    "pipelineGBT = Pipeline(stages = [indexer, assembler, gbt])\n",
    "# Обучение модели\n",
    "modelGBT = pipelineGBT.fit(train)\n",
    "# Предсказание возраста на тестовой выборке\n",
    "predictionsGBT = modelGBT.transform(test).withColumnRenamed(\"prediction\", \"predictionsGBT\")\n",
    "Pred_arr.append(predictionsGBT)\n",
    "\n",
    "# Сохранение степени влиятельности признаков\n",
    "name = \"GBTRegressor\"\n",
    "tup = (name, ) + tuple(list(map(lambda x: float(x), modelGBT.stages[2].featureImportances)))\n",
    "Importance_arr.append(tup)"
   ]
  },
  {
   "cell_type": "code",
   "execution_count": 33,
   "id": "2e96de5b-957c-43bd-a0dc-7d2c217905a3",
   "metadata": {},
   "outputs": [
    {
     "name": "stdout",
     "output_type": "stream",
     "text": [
      "Root Mean Squared Error (RMSE): 2.3806134405952695\n",
      "Mean Absolute Error (MAE): 1.64338887523341\n",
      "+---+------------------+\n",
      "|Age|    predictionsGBT|\n",
      "+---+------------------+\n",
      "|  6| 5.944553599927392|\n",
      "|  9|  8.12966426391129|\n",
      "|  7|  8.12966426391129|\n",
      "| 10|  8.12966426391129|\n",
      "| 10| 8.338524885519957|\n",
      "|  7| 9.757891458403545|\n",
      "|  7| 9.475181375275692|\n",
      "|  7| 9.966752080012213|\n",
      "| 10| 9.966752080012213|\n",
      "|  8| 9.757891458403545|\n",
      "|  6| 9.757891458403545|\n",
      "|  7| 9.924759122898589|\n",
      "| 10| 9.641815032377098|\n",
      "| 16| 9.924759122898589|\n",
      "|  8| 9.924759122898589|\n",
      "|  8| 9.966752080012213|\n",
      "| 10|   9.8102361436508|\n",
      "| 10| 9.638052696088856|\n",
      "| 10|  9.80996429522989|\n",
      "| 12|11.308200454854616|\n",
      "+---+------------------+\n",
      "only showing top 20 rows\n",
      "\n"
     ]
    }
   ],
   "source": [
    "# Оценка модели\n",
    "evaluator = RegressionEvaluator(labelCol = \"Age\", predictionCol = \"predictionsGBT\", metricName = \"rmse\")\n",
    "rmseGBT = evaluator.evaluate(predictionsGBT)\n",
    "\n",
    "evaluator = RegressionEvaluator(labelCol = \"Age\", predictionCol = \"predictionsGBT\", metricName = \"mae\")\n",
    "maeGBT = evaluator.evaluate(predictionsGBT)\n",
    "\n",
    "tupleRMSE += (rmseGBT,)\n",
    "\n",
    "print(\"Root Mean Squared Error (RMSE): %s\" % rmseGBT)\n",
    "print(\"Mean Absolute Error (MAE): %s\" % maeGBT)\n",
    "\n",
    "# Вывод результата и выключение SparkSession\n",
    "predictionsGBT.select(\"Age\", \"predictionsGBT\").show()"
   ]
  },
  {
   "cell_type": "code",
   "execution_count": 34,
   "id": "98ed5f72-8cfa-4239-a076-954890ba25a2",
   "metadata": {},
   "outputs": [],
   "source": [
    "# Создание модели линейной регрессии\n",
    "lr = LinearRegression(featuresCol=\"features\", labelCol=\"Age\", maxIter=10, regParam=0.3, elasticNetParam=0.8) \n",
    "# Создание конвейера\n",
    "pipelineLR = Pipeline(stages = [indexer, assembler, lr])\n",
    "# Fit the model\n",
    "modelLR = pipelineLR.fit(train)\n",
    "# Предсказание возраста на тестовой выборке\n",
    "predictionsLR = modelLR.transform(test).withColumnRenamed(\"prediction\", \"predictionsLR\")\n",
    "Pred_arr.append(predictionsLR)"
   ]
  },
  {
   "cell_type": "code",
   "execution_count": 35,
   "id": "fdcab750-aeb4-481a-a91a-b433ca881ffd",
   "metadata": {},
   "outputs": [
    {
     "name": "stdout",
     "output_type": "stream",
     "text": [
      "Root Mean Squared Error (RMSE): 2.635677721670266\n",
      "Mean Absolute Error (MAE): 1.8818309318367363\n",
      "+---+-----------------+\n",
      "|Age|    predictionsLR|\n",
      "+---+-----------------+\n",
      "|  6|7.575476249780159|\n",
      "|  9|7.851307570196404|\n",
      "|  7|7.797595393818223|\n",
      "| 10|7.931763188864219|\n",
      "| 10|8.062339587924274|\n",
      "|  7|8.094281218294956|\n",
      "|  7|7.946183684149375|\n",
      "|  7|8.349116073736642|\n",
      "| 10|8.136044839266935|\n",
      "|  8|8.133202226477545|\n",
      "|  6|8.060674762780712|\n",
      "|  7|8.288653530033308|\n",
      "| 10| 8.20202192960114|\n",
      "| 16|8.484807031502516|\n",
      "|  8|8.320220768805715|\n",
      "|  8| 8.32777453217842|\n",
      "| 10| 8.49213178438847|\n",
      "| 10|8.635834526500556|\n",
      "| 10|8.853903955088786|\n",
      "| 12|8.859102143169835|\n",
      "+---+-----------------+\n",
      "only showing top 20 rows\n",
      "\n"
     ]
    }
   ],
   "source": [
    "# Оценка модели\n",
    "evaluator = RegressionEvaluator(labelCol = \"Age\", predictionCol = \"predictionsLR\", metricName = \"rmse\")\n",
    "rmseLR = evaluator.evaluate(predictionsLR)\n",
    "\n",
    "evaluator = RegressionEvaluator(labelCol = \"Age\", predictionCol = \"predictionsLR\", metricName = \"mae\")\n",
    "maeLR = evaluator.evaluate(predictionsLR)\n",
    "\n",
    "tupleRMSE += (rmseLR,)\n",
    "\n",
    "print(\"Root Mean Squared Error (RMSE): %s\" % rmseLR)\n",
    "print(\"Mean Absolute Error (MAE): %s\" % maeLR)\n",
    "\n",
    "# Вывод результата и выключение SparkSession\n",
    "predictionsLR.select(\"Age\", \"predictionsLR\").show()"
   ]
  },
  {
   "cell_type": "code",
   "execution_count": 36,
   "id": "1e3503eb-cc60-4f5d-82ea-5c74bc213bc2",
   "metadata": {},
   "outputs": [],
   "source": [
    "# Создание модели решающих деервьев\n",
    "dt = DecisionTreeRegressor(featuresCol=\"features\", labelCol=\"Age\")\n",
    "# Создание конвейера\n",
    "pipelineDT = Pipeline(stages = [indexer, assembler, dt])\n",
    "# Fit the model\n",
    "modelDT = pipelineDT.fit(train)\n",
    "# Предсказание возраста на тестовой выборке\n",
    "predictionsDT = modelDT.transform(test).withColumnRenamed(\"prediction\", \"predictionsDT\")\n",
    "Pred_arr.append(predictionsDT)\n",
    "\n",
    "# Сохранение степени влиятельности признаков\n",
    "name = \"DecisionTreeRegressor\"\n",
    "tup = (name, ) + tuple(list(map(lambda x: float(x), modelDT.stages[2].featureImportances)))\n",
    "Importance_arr.append(tup)"
   ]
  },
  {
   "cell_type": "code",
   "execution_count": 37,
   "id": "15202ee5-c9d1-4a4b-bb2c-a0ca76e12f71",
   "metadata": {},
   "outputs": [
    {
     "name": "stdout",
     "output_type": "stream",
     "text": [
      "Root Mean Squared Error (RMSE): 2.4442793759368713\n",
      "Mean Absolute Error (MAE): 1.6966915215364518\n",
      "+---+-----------------+\n",
      "|Age|    predictionsDT|\n",
      "+---+-----------------+\n",
      "|  6|5.957746478873239|\n",
      "|  9|8.142857142857142|\n",
      "|  7|8.142857142857142|\n",
      "| 10|8.142857142857142|\n",
      "| 10|8.142857142857142|\n",
      "|  7|9.771084337349398|\n",
      "|  7|9.771084337349398|\n",
      "|  7|9.771084337349398|\n",
      "| 10|9.771084337349398|\n",
      "|  8|9.771084337349398|\n",
      "|  6|9.771084337349398|\n",
      "|  7|9.771084337349398|\n",
      "| 10|9.771084337349398|\n",
      "| 16|9.771084337349398|\n",
      "|  8|9.771084337349398|\n",
      "|  8|9.771084337349398|\n",
      "| 10|9.771084337349398|\n",
      "| 10|9.771084337349398|\n",
      "| 10|9.771084337349398|\n",
      "| 12|9.771084337349398|\n",
      "+---+-----------------+\n",
      "only showing top 20 rows\n",
      "\n"
     ]
    }
   ],
   "source": [
    "# Оценка модели\n",
    "evaluator = RegressionEvaluator(labelCol = \"Age\", predictionCol = \"predictionsDT\", metricName = \"rmse\")\n",
    "rmseDT = evaluator.evaluate(predictionsDT)\n",
    "\n",
    "evaluator = RegressionEvaluator(labelCol = \"Age\", predictionCol = \"predictionsDT\", metricName = \"mae\")\n",
    "maeDT = evaluator.evaluate(predictionsDT)\n",
    "\n",
    "tupleRMSE += (rmseDT,)\n",
    "\n",
    "print(\"Root Mean Squared Error (RMSE): %s\" % rmseDT)\n",
    "print(\"Mean Absolute Error (MAE): %s\" % maeDT)\n",
    "\n",
    "# Вывод результата и выключение SparkSession\n",
    "predictionsDT.select(\"Age\", \"predictionsDT\").show()"
   ]
  },
  {
   "cell_type": "code",
   "execution_count": 38,
   "id": "2452bde3-dbe8-4d69-ade3-3436d83e7d7e",
   "metadata": {},
   "outputs": [],
   "source": [
    "# Создание модели изотонической регрессии\n",
    "ir = IsotonicRegression(featuresCol=\"features\", labelCol=\"Age\")\n",
    "# Создание конвейера\n",
    "pipelineIR = Pipeline(stages = [indexer, assembler, ir])\n",
    "# Fit the model\n",
    "modelIR = pipelineIR.fit(train)\n",
    "# Предсказание возраста на тестовой выборке\n",
    "predictionsIR = modelIR.transform(test).withColumnRenamed(\"prediction\", \"predictionsIR\")\n",
    "Pred_arr.append(predictionsIR)"
   ]
  },
  {
   "cell_type": "code",
   "execution_count": 39,
   "id": "752bd8f9-d795-4a7c-a3fd-3faf6e692e1e",
   "metadata": {},
   "outputs": [
    {
     "name": "stdout",
     "output_type": "stream",
     "text": [
      "Root Mean Squared Error (RMSE): 4.055998996778264\n",
      "Mean Absolute Error (MAE): 3.1458471145125584\n",
      "+---+------------------+\n",
      "|Age|     predictionsIR|\n",
      "+---+------------------+\n",
      "|  6|10.088335773548073|\n",
      "|  9|10.088335773548073|\n",
      "|  7|10.088335773548073|\n",
      "| 10|10.088335773548073|\n",
      "| 10|10.088335773548073|\n",
      "|  7|10.088335773548073|\n",
      "|  7|10.088335773548073|\n",
      "|  7|10.088335773548073|\n",
      "| 10|10.088335773548073|\n",
      "|  8|10.088335773548073|\n",
      "|  6|10.088335773548073|\n",
      "|  7|10.088335773548073|\n",
      "| 10|10.088335773548073|\n",
      "| 16|10.088335773548073|\n",
      "|  8|10.088335773548073|\n",
      "|  8|10.088335773548073|\n",
      "| 10|10.088335773548073|\n",
      "| 10|10.088335773548073|\n",
      "| 10|10.088335773548073|\n",
      "| 12|10.088335773548073|\n",
      "+---+------------------+\n",
      "only showing top 20 rows\n",
      "\n"
     ]
    }
   ],
   "source": [
    "# Оценка модели\n",
    "evaluator = RegressionEvaluator(labelCol = \"Age\", predictionCol = \"predictionsIR\", metricName = \"rmse\")\n",
    "rmseIR = evaluator.evaluate(predictionsIR)\n",
    "\n",
    "evaluator = RegressionEvaluator(labelCol = \"Age\", predictionCol = \"predictionsIR\", metricName = \"mae\")\n",
    "maeIR = evaluator.evaluate(predictionsIR)\n",
    "\n",
    "tupleRMSE += (rmseIR,)\n",
    "\n",
    "print(\"Root Mean Squared Error (RMSE): %s\" % rmseIR)\n",
    "print(\"Mean Absolute Error (MAE): %s\" % maeIR)\n",
    "\n",
    "# Вывод результата и выключение SparkSession\n",
    "predictionsIR.select(\"Age\", \"predictionsIR\").show()"
   ]
  },
  {
   "cell_type": "code",
   "execution_count": 40,
   "id": "d4e46aa3-eec6-4304-9a7e-b41d196e5263",
   "metadata": {},
   "outputs": [],
   "source": [
    "# Создание модели FMRegressor\n",
    "fm = FMRegressor(featuresCol=\"features\", labelCol=\"Age\", predictionCol=\"prediction\",stepSize=0.001)\n",
    "# Создание конвейера\n",
    "pipelineFM = Pipeline(stages = [indexer, assembler, fm])\n",
    "# Fit the model\n",
    "modelFM = pipelineFM.fit(train)\n",
    "# Предсказание возраста на тестовой выборке\n",
    "predictionsFM = modelFM.transform(test).withColumnRenamed(\"prediction\", \"predictionsFM\")\n",
    "Pred_arr.append(predictionsFM)"
   ]
  },
  {
   "cell_type": "code",
   "execution_count": 41,
   "id": "234e2445-4e37-4db5-86f0-4ac4656b7402",
   "metadata": {},
   "outputs": [
    {
     "name": "stdout",
     "output_type": "stream",
     "text": [
      "Root Mean Squared Error (RMSE): 5.534555706146596\n",
      "Mean Absolute Error (MAE): 4.596309743749149\n",
      "+---+------------------+\n",
      "|Age|     predictionsFM|\n",
      "+---+------------------+\n",
      "|  6|1.1272071341747298|\n",
      "|  9| 1.304731712057396|\n",
      "|  7|1.2561276148892677|\n",
      "| 10|1.4285060228178794|\n",
      "| 10|1.5281194253477555|\n",
      "|  7| 1.756910301076485|\n",
      "|  7|1.8887283731847917|\n",
      "|  7|1.9656042788540469|\n",
      "| 10|1.6736157591738352|\n",
      "|  8|1.8402247542358272|\n",
      "|  6| 1.759240984914093|\n",
      "|  7| 2.147802636499514|\n",
      "| 10|1.9907166557882068|\n",
      "| 16|2.3115656055727194|\n",
      "|  8| 2.342130291686629|\n",
      "|  8| 2.054417119149027|\n",
      "| 10|2.4380034836363196|\n",
      "| 10|2.4953305640829058|\n",
      "| 10|3.1244903517065974|\n",
      "| 12|2.5907763971846465|\n",
      "+---+------------------+\n",
      "only showing top 20 rows\n",
      "\n"
     ]
    }
   ],
   "source": [
    "# Оценка модели\n",
    "evaluator = RegressionEvaluator(labelCol = \"Age\", predictionCol = \"predictionsFM\", metricName = \"rmse\")\n",
    "rmseFM = evaluator.evaluate(predictionsFM)\n",
    "\n",
    "evaluator = RegressionEvaluator(labelCol = \"Age\", predictionCol = \"predictionsFM\", metricName = \"mae\")\n",
    "maeFM = evaluator.evaluate(predictionsFM)\n",
    "\n",
    "tupleRMSE += (rmseFM,)\n",
    "\n",
    "print(\"Root Mean Squared Error (RMSE): %s\" % rmseFM)\n",
    "print(\"Mean Absolute Error (MAE): %s\" % maeFM)\n",
    "\n",
    "# Вывод результата и выключение SparkSession\n",
    "predictionsFM.select(\"Age\", \"predictionsFM\").show()"
   ]
  },
  {
   "cell_type": "code",
   "execution_count": 42,
   "id": "d5d86962-d438-4d88-a41e-a5ce891f90bf",
   "metadata": {},
   "outputs": [],
   "source": [
    "# Модель  `AFTSurvivalRegression`  не подходит для датасета  `CrabAgePrediction`, так как нет информации о том,  \n",
    "# живы ли были крабы, когда их поймали.\n",
    "\n",
    "# Эта модель предназначена для анализа данных выживания, где есть данные о времени до события (в данном случае, смерть) \n",
    "# и информация о том,  было ли это событие наблюдено (краб умер) или  **цензурировано**  (краб был жив, когда его поймали).  "
   ]
  },
  {
   "cell_type": "code",
   "execution_count": 43,
   "id": "ed06ed51-e45b-434e-9dc8-406023416bef",
   "metadata": {},
   "outputs": [],
   "source": [
    "glr = GeneralizedLinearRegression(featuresCol=\"features\", labelCol=\"Age\", family=\"gaussian\", link=\"identity\", maxIter=10, regParam=0.3)\n",
    "# Создание конвейера\n",
    "pipelineGLR = Pipeline(stages = [indexer, assembler, glr])\n",
    "# Fit the model\n",
    "modelGLR = pipelineGLR.fit(train)\n",
    "# Предсказание возраста на тестовой выборке\n",
    "predictionsGLR = modelGLR.transform(test).withColumnRenamed(\"prediction\", \"predictionsGLR\")\n",
    "Pred_arr.append(predictionsGLR)"
   ]
  },
  {
   "cell_type": "code",
   "execution_count": 44,
   "id": "d74f2b28-c31a-408a-970d-4a92f7a5f15a",
   "metadata": {},
   "outputs": [
    {
     "name": "stdout",
     "output_type": "stream",
     "text": [
      "Root Mean Squared Error (RMSE): 2.440465922240704\n",
      "Mean Absolute Error (MAE): 1.7213759461682905\n",
      "+---+-----------------+\n",
      "|Age|   predictionsGLR|\n",
      "+---+-----------------+\n",
      "|  6|6.986039261259186|\n",
      "|  9|7.676532516111662|\n",
      "|  7|7.627029507818958|\n",
      "| 10|7.680174900180644|\n",
      "| 10| 8.02858283303358|\n",
      "|  7|7.990860558877739|\n",
      "|  7|7.583519416231743|\n",
      "|  7|8.276963375088364|\n",
      "| 10|8.158501597096183|\n",
      "|  8|8.050373152874357|\n",
      "|  6|8.058047779509558|\n",
      "|  7|8.219432211224959|\n",
      "| 10|8.144933668758657|\n",
      "| 16|8.633411457479916|\n",
      "|  8|8.377993945207525|\n",
      "|  8| 8.49611827394601|\n",
      "| 10|8.495546339134307|\n",
      "| 10|8.931110922961462|\n",
      "| 10|8.890694834372836|\n",
      "| 12|9.135689970436971|\n",
      "+---+-----------------+\n",
      "only showing top 20 rows\n",
      "\n"
     ]
    }
   ],
   "source": [
    "# Оценка модели\n",
    "evaluator = RegressionEvaluator(labelCol = \"Age\", predictionCol = \"predictionsGLR\", metricName = \"rmse\")\n",
    "rmseGLR = evaluator.evaluate(predictionsGLR)\n",
    "\n",
    "evaluator = RegressionEvaluator(labelCol = \"Age\", predictionCol = \"predictionsGLR\", metricName = \"mae\")\n",
    "maeGLR = evaluator.evaluate(predictionsGLR)\n",
    "\n",
    "tupleRMSE += (rmseGLR,)\n",
    "\n",
    "print(\"Root Mean Squared Error (RMSE): %s\" % rmseGLR)\n",
    "print(\"Mean Absolute Error (MAE): %s\" % maeGLR)\n",
    "\n",
    "# Вывод результата и выключение SparkSession\n",
    "predictionsGLR.select(\"Age\", \"predictionsGLR\").show()"
   ]
  },
  {
   "cell_type": "code",
   "execution_count": 45,
   "id": "58dac84c-b333-41f3-8fe3-ca303dc2f391",
   "metadata": {},
   "outputs": [],
   "source": [
    "# Создаем списки моделей, выполняющихся том же в порядке выше\n",
    "modelsList = [\"RandomForestRegressor\", \"GBTRegressor\", \"LinearRegression\", \"DecisionTreeRegressor\", \n",
    "              \"IsotonicRegression\", \"FMRegressor\", \"GeneralizedLinearRegression\"]\n",
    "shortModelsList = [\"predictionsRF\", \"predictionsGBT\", \"predictionsLR\", \"predictionsDT\", \"predictionsIR\", \n",
    "                   \"predictionsFM\", \"predictionsGLR\"]\n",
    "\n",
    "# Схема нового DataFrame значений RMSE каждой модели\n",
    "schemaRMSE = StructType([\n",
    "    StructField(modelsList[0], DoubleType(), True),\n",
    "    StructField(modelsList[1], DoubleType(), True),\n",
    "    StructField(modelsList[2], DoubleType(), True),\n",
    "    StructField(modelsList[3], DoubleType(), True),\n",
    "    StructField(modelsList[4], DoubleType(), True),\n",
    "    StructField(modelsList[5], DoubleType(), True),\n",
    "    StructField(modelsList[6], DoubleType(), True)\n",
    "])\n",
    "# Создание DataFrame\n",
    "rmseDF = spark.createDataFrame([tupleRMSE], schemaRMSE)"
   ]
  },
  {
   "cell_type": "code",
   "execution_count": 46,
   "id": "3601697c-fb28-4d27-bfdc-2e17f9abed20",
   "metadata": {},
   "outputs": [],
   "source": [
    "# Формирование схемы Dataframe влиятельных признаков\n",
    "types = [StructField(\"Model_name\", StringType(), True)]\n",
    "\n",
    "for i in feature_names:\n",
    "    types.append(StructField(i, DoubleType(), True))\n",
    "\n",
    "schema_imp = StructType(types)\n",
    "impDF = spark.createDataFrame(Importance_arr, schema_imp)"
   ]
  },
  {
   "cell_type": "code",
   "execution_count": 47,
   "id": "3cd31032-9ce0-4a45-bf4c-82976f9574b6",
   "metadata": {},
   "outputs": [],
   "source": [
    "# Сбор и структурирование данных о результатах предсказаний\n",
    "# Добавляем столбец ID, чтобы избежать потери данных при объединении\n",
    "for i, df in enumerate(Pred_arr):\n",
    "    df = df.withColumn(\"id\", monotonically_increasing_id())\n",
    "    Pred_arr[i] = df\n",
    "\n",
    "# Отбираем данных предсказаний\n",
    "ListSelectedDF = [df.select(\"Age\", \"id\", shortModelsList[i]) for i, df in enumerate(Pred_arr)]\n",
    "\n",
    "# формируем из них новый Dataframe по Age и id\n",
    "predDF = ListSelectedDF[0]\n",
    "\n",
    "for i in range(1, len(ListSelectedDF)):\n",
    "    predDF = predDF.join(ListSelectedDF[i], on = [\"Age\", \"id\"], how = \"inner\")\n",
    "\n",
    "predDF = predDF.drop(\"id\")"
   ]
  },
  {
   "cell_type": "code",
   "execution_count": 48,
   "id": "d31b729a-4e62-42d7-8774-dde6d0cff9e1",
   "metadata": {},
   "outputs": [
    {
     "name": "stderr",
     "output_type": "stream",
     "text": [
      "                                                                                \r"
     ]
    },
    {
     "name": "stdout",
     "output_type": "stream",
     "text": [
      "Лучшая модель: GBTRegressor (RMSE: 2.3806134405952695)\n"
     ]
    },
    {
     "name": "stderr",
     "output_type": "stream",
     "text": [
      "                                                                                \r"
     ]
    }
   ],
   "source": [
    "# Вывод лучшего результата\n",
    "print(f\"Лучшая модель: {modelsList[rmseDF.head().index(min(rmseDF.head()))]} (RMSE: {min(rmseDF.head())})\")\n",
    "# Запись результатов в json-файл\n",
    "rmseDF.coalesce(1).write.json(\"RMSE.json\", mode = 'overwrite')\n",
    "predDF.write.json(\"Pred.json\", mode = 'overwrite')\n",
    "impDF.coalesce(1).write.json(\"Importance.json\", mode = 'overwrite')"
   ]
  },
  {
   "cell_type": "code",
   "execution_count": 49,
   "id": "ab0a7032-5d8c-4617-af04-e4c21b324306",
   "metadata": {},
   "outputs": [],
   "source": [
    "spark.stop()"
   ]
  },
  {
   "cell_type": "code",
   "execution_count": null,
   "id": "07ef52be-660c-4e8e-84ce-5878d0db3d3e",
   "metadata": {},
   "outputs": [],
   "source": []
  }
 ],
 "metadata": {
  "kernelspec": {
   "display_name": "Python 3 (ipykernel)",
   "language": "python",
   "name": "python3"
  },
  "language_info": {
   "codemirror_mode": {
    "name": "ipython",
    "version": 3
   },
   "file_extension": ".py",
   "mimetype": "text/x-python",
   "name": "python",
   "nbconvert_exporter": "python",
   "pygments_lexer": "ipython3",
   "version": "3.10.12"
  }
 },
 "nbformat": 4,
 "nbformat_minor": 5
}
